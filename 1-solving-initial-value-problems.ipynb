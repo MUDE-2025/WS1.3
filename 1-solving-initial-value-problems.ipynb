{
 "cells": [
  {
   "cell_type": "markdown",
   "metadata": {},
   "source": [
    "# Part 1: Solving an Initial Value Problem (Falling Head Test)"
   ]
  },
  {
   "cell_type": "markdown",
   "metadata": {},
   "source": [
    "## Groundwater Flow and the Hydraulic Head Test\n",
    "\n",
    "![falling Head Test](https://files.mude.citg.tudelft.nl/falling_head.png)\n",
    "\n",
    "The falling head test is a test to determine the hydraulic conductivity[^1] of a soil sample.\n",
    "The soil sample is put in a box with water. A glass tube in the sample is used to measure the hydraulic head $h$.\n",
    "Before the test, water is poured in the tube while the valve is closed.\n",
    "At the start of the test, the valve is opened and the decrease of the hydraulic head is measured over time.\n",
    "\n",
    "The hydraulic head $h$ in this test can be defined by the following ordinary differential equation:\n",
    "\n",
    "$$ \\frac{dh}{dt} = - \\frac{K A h}{a L} $$\n",
    "\n",
    "where\n",
    "*   $h$ = hydraulic head [length] (measured in the tube)\n",
    "*   $K$ = hydraulic conductivity [length/time]\n",
    "*   $A$ = cross section area of the sample [length²]\n",
    "*   $a$ = cross section area of the tube [length²]\n",
    "*   $L$ = sample height [length]\n",
    "\n",
    "> Source: A. Verruijt, Grondmechanica / Soil Mechanics; https://geo.verruijt.net/software/SoilMechBook2012.pdf (to be used, copied and distributed without restriction)\n",
    "\n",
    "In this notebook we will solve the decreasing hydraulic head (\"falling head\") $h$ in time ($t$).\n",
    "\n",
    "[^1]: The *hydraulic conductivity* (units of length per time) describes the ease with which a fluid (in this case water) moves through a porous medium (here the soil sample) and is both a property of the fluid and the porous medium. In some fields (e.g., geotechnical engineering), this parameter is sometimes also referred to as the *permeability coefficient*. However, this usage is ambiguous because in many fields (e.g., hydrogeology, petroleum engineering) the term permeability is used for the *intrinsic permeability* (units of length squared), which is only a property of the porous medium and does not depend on the fluid."
   ]
  },
  {
   "cell_type": "markdown",
   "metadata": {},
   "source": [
    "### True solution:\n",
    "The true solution can be obtained by solving the differential equation analytically:\n",
    "$$h = h_0 \\, \\exp \\left( \\frac{-K A t}{a L} \\right) $$\n"
   ]
  },
  {
   "cell_type": "markdown",
   "metadata": {},
   "source": [
    "<div style=\"background-color:#AABAB2; color: black; width:90%; vertical-align: middle; padding:15px; margin: 10px; border-radius: 10px\">\n",
    "<p>\n",
    "\n",
    "$\\text{Task 1.1:}$\n",
    "    \n",
    "Run the cells below to define the parameters and visualise the analytical solution:\n",
    "\n",
    "</p>\n",
    "</div>"
   ]
  },
  {
   "cell_type": "code",
   "execution_count": null,
   "metadata": {},
   "outputs": [],
   "source": [
    "import math\n",
    "import numpy as np\n",
    "import matplotlib.pyplot as plt\n",
    "\n",
    "K = 1e-6  # hydraulic conductivity\n",
    "A = 0.1  # cross section area of the sample\n",
    "a = 0.001  # cross section area of the tube\n",
    "L = 0.1  # sample height\n",
    "h0 = 1.0  # initial groundwater head\n",
    "t0 = 0.0  # start time\n",
    "maxtime = 5000\n",
    "dt = 500\n",
    "n_steps = round(maxtime / dt)"
   ]
  },
  {
   "cell_type": "code",
   "execution_count": null,
   "metadata": {},
   "outputs": [],
   "source": [
    "t = np.linspace(0, maxtime, 1001)\n",
    "h = [h0 * math.exp(-K * A * t[i] / (a * L)) for i in range(1001)]"
   ]
  },
  {
   "cell_type": "code",
   "execution_count": null,
   "metadata": {},
   "outputs": [],
   "source": [
    "plt.plot(t, h, label=\"Analytical solution\")\n",
    "plt.xlabel(\"time [s]\")\n",
    "plt.ylabel(\"h [m]\")\n",
    "plt.legend()\n",
    "plt.show()"
   ]
  },
  {
   "cell_type": "markdown",
   "metadata": {},
   "source": [
    "### Euler Forward:"
   ]
  },
  {
   "cell_type": "markdown",
   "metadata": {},
   "source": [
    "<div style=\"background-color:#AABAB2; color: black; width:90%; vertical-align: middle; padding:15px; margin: 10px; border-radius: 10px\">\n",
    "<p>\n",
    "\n",
    "$\\text{Task 1.2:}$\n",
    "    \n",
    "Formulate the Euler Forward solution and complete the code below:\n",
    "\n",
    "</p>\n",
    "</div>"
   ]
  },
  {
   "cell_type": "code",
   "execution_count": null,
   "metadata": {
    "tags": [
     "assignment"
    ]
   },
   "outputs": [],
   "source": [
    "t_n = np.linspace(0, maxtime, n_steps+1)\n",
    "h_EF = []\n",
    "h_EF.append(h0)\n",
    "for i in range(n_steps):\n",
    "    h_new = ### YOUR CODE HERE ###\n",
    "    h_EF.append(h_new)\n"
   ]
  },
  {
   "cell_type": "markdown",
   "metadata": {},
   "source": [
    "### Euler Backward:"
   ]
  },
  {
   "cell_type": "markdown",
   "metadata": {},
   "source": [
    "<div style=\"background-color:#AABAB2; color: black; width:90%; vertical-align: middle; padding:15px; margin: 10px; border-radius: 10px\">\n",
    "<p>\n",
    "\n",
    "$\\text{Task 1.3:}$\n",
    "    \n",
    "Formulate the Euler Backward solution and complete the code below:\n",
    "\n",
    "</p>\n",
    "</div>"
   ]
  },
  {
   "cell_type": "code",
   "execution_count": null,
   "metadata": {
    "tags": [
     "assignment"
    ]
   },
   "outputs": [],
   "source": [
    "h_EB = []\n",
    "h_EB.append(h0)\n",
    "for i in range(n_steps):\n",
    "    h_new = ### YOUR CODE HERE ###\n",
    "    h_EB.append(h_new)"
   ]
  },
  {
   "cell_type": "markdown",
   "metadata": {},
   "source": [
    "### Heun's Method (= 2-stage Runge-Kutta):"
   ]
  },
  {
   "cell_type": "markdown",
   "metadata": {},
   "source": [
    "<div style=\"background-color:#AABAB2; color: black; width:90%; vertical-align: middle; padding:15px; margin: 10px; border-radius: 10px\">\n",
    "<p>\n",
    "\n",
    "$\\text{Task 1.4:}$\n",
    "    \n",
    "Formulate Heun's solution and complete the code below:\n",
    "\n",
    "</p>\n",
    "</div>"
   ]
  },
  {
   "cell_type": "code",
   "execution_count": null,
   "metadata": {
    "tags": [
     "assignment"
    ]
   },
   "outputs": [],
   "source": [
    "h_RK2 = []\n",
    "h_RK2.append(h0)\n",
    "for i in range(n_steps):\n",
    "    fac = -K*A / (a*L)\n",
    "    k1 =  ### YOUR CODE HERE ###\n",
    "    k2 =  ### YOUR CODE HERE ###\n",
    "    h_new =  ### YOUR CODE HERE ###\n",
    "    h_RK2.append(h_new)"
   ]
  },
  {
   "cell_type": "markdown",
   "metadata": {},
   "source": [
    "### 4-stage Runge-Kutta:"
   ]
  },
  {
   "cell_type": "markdown",
   "metadata": {},
   "source": [
    "<div style=\"background-color:#AABAB2; color: black; width:90%; vertical-align: middle; padding:15px; margin: 10px; border-radius: 10px\">\n",
    "<p>\n",
    "\n",
    "$\\text{Task 1.5:}$\n",
    "    \n",
    "Formulate the 4-stage Runge-Kutta solution and complete the code below:\n",
    "\n",
    "</p>\n",
    "</div>"
   ]
  },
  {
   "cell_type": "code",
   "execution_count": null,
   "metadata": {
    "tags": [
     "assignment"
    ]
   },
   "outputs": [],
   "source": [
    "h_RK4 = []\n",
    "h_RK4.append(h0)\n",
    "for i in range(n_steps):\n",
    "    fac = -K*A / (a*L)\n",
    "    k1 =  ### YOUR CODE HERE ###\n",
    "    k2 =  ### YOUR CODE HERE ###\n",
    "    k3 =  ### YOUR CODE HERE ###\n",
    "    k4 =  ### YOUR CODE HERE ###\n",
    "    h_new =  ### YOUR CODE HERE ###\n",
    "    h_RK4.append(h_new)"
   ]
  },
  {
   "cell_type": "markdown",
   "metadata": {},
   "source": [
    "### Plot results"
   ]
  },
  {
   "cell_type": "markdown",
   "metadata": {},
   "source": [
    "<div style=\"background-color:#AABAB2; color: black; width:90%; vertical-align: middle; padding:15px; margin: 10px; border-radius: 10px\">\n",
    "<p>\n",
    "\n",
    "$\\text{Task 1.6:}$\n",
    "    \n",
    "Run the code cell below to show the different solutions:\n",
    "\n",
    "</p>\n",
    "</div>"
   ]
  },
  {
   "cell_type": "code",
   "execution_count": null,
   "metadata": {},
   "outputs": [],
   "source": [
    "plt.plot(t, h, label=\"True solution\")\n",
    "plt.plot(t_n, h_EF, label=f\"Explicit Euler (dt={dt})\", marker=\".\")\n",
    "plt.plot(t_n, h_EB, label=f\"Implicit Euler (dt={dt})\", marker=\".\")\n",
    "plt.plot(t_n, h_RK2, label=f\"Heun's method (dt={dt})\", marker=\".\")\n",
    "plt.plot(t_n, h_RK4, label=f\"Runge-Kutta (dt={dt})\", marker=\".\")\n",
    "plt.xlabel(\"time [s]\")\n",
    "plt.ylabel(\"h [m]\")\n",
    "plt.legend()\n",
    "plt.show()"
   ]
  },
  {
   "cell_type": "markdown",
   "metadata": {},
   "source": [
    "<div style=\"background-color:#AABAB2; color: black; width:90%; vertical-align: middle; padding:15px; margin: 10px; border-radius: 10px\">\n",
    "<p>\n",
    "\n",
    "$\\text{Task 1.7:}$\n",
    "    \n",
    "Comment on the various results in view of the true solution and their numerical stability.\n",
    "\n",
    "</p>\n",
    "</div>"
   ]
  },
  {
   "cell_type": "markdown",
   "metadata": {},
   "source": [
    "> By Ronald Brinkgreve, Anna Störiko, Delft University of Technology. CC BY 4.0, more info [on the Credits page of Workbook](https://mude.citg.tudelft.nl/workbook-2025/credits.html)."
   ]
  }
 ],
 "metadata": {
  "kernelspec": {
   "display_name": "mude-base",
   "language": "python",
   "name": "python3"
  },
  "language_info": {
   "codemirror_mode": {
    "name": "ipython",
    "version": 3
   },
   "file_extension": ".py",
   "mimetype": "text/x-python",
   "name": "python",
   "nbconvert_exporter": "python",
   "pygments_lexer": "ipython3",
   "version": "3.12.11"
  }
 },
 "nbformat": 4,
 "nbformat_minor": 2
}
