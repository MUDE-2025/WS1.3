{
 "cells": [
  {
   "cell_type": "markdown",
   "metadata": {},
   "source": [
    "# Part 1: Solving an Initial Value Problem (Falling Head Test)"
   ]
  },
  {
   "cell_type": "markdown",
   "metadata": {},
   "source": [
    "## Groundwater Flow and the Hydraulic Head Test\n",
    "\n",
    "![falling Head Test](https://files.mude.citg.tudelft.nl/falling_head.png)\n",
    "\n",
    "The falling head test is a test to determine the hydraulic conductivity[^1] of a soil sample.\n",
    "The soil sample is put in a box with water. A glass tube in the sample is used to measure the hydraulic head $h$.\n",
    "Before the test, water is poured in the tube while the valve is closed.\n",
    "At the start of the test, the valve is opened and the decrease of the hydraulic head is measured over time.\n",
    "\n",
    "The hydraulic head $h$ in this test can be defined by the following ordinary differential equation:\n",
    "\n",
    "$$ \\frac{dh}{dt} = - \\frac{K A h}{a L} $$\n",
    "\n",
    "where\n",
    "*   $h$ = hydraulic head [length] (measured in the tube)\n",
    "*   $K$ = hydraulic conductivity [length/time]\n",
    "*   $A$ = cross section area of the sample [length²]\n",
    "*   $a$ = cross section area of the tube [length²]\n",
    "*   $L$ = sample height [length]\n",
    "\n",
    "> Source: A. Verruijt, Grondmechanica / Soil Mechanics; https://geo.verruijt.net/software/SoilMechBook2012.pdf (to be used, copied and distributed without restriction)\n",
    "\n",
    "In this notebook we will solve the decreasing hydraulic head (\"falling head\") $h$ in time ($t$).\n",
    "\n",
    "[^1]: The *hydraulic conductivity* (units of length per time) describes the ease with which a fluid (in this case water) moves through a porous medium (here the soil sample) and is both a property of the fluid and the porous medium. In some fields (e.g., geotechnical engineering), this parameter is sometimes also referred to as the *permeability coefficient*. However, this usage is ambiguous because in many fields (e.g., hydrogeology, petroleum engineering) the term permeability is used for the *intrinsic permeability* (units of length squared), which is only a property of the porous medium and does not depend on the fluid."
   ]
  },
  {
   "cell_type": "markdown",
   "metadata": {},
   "source": [
    "### True solution:\n",
    "The true solution can be obtained by solving the differential equation analytically:\n",
    "$$h = h_0 \\, \\exp \\left( \\frac{-K A t}{a L} \\right) $$\n"
   ]
  },
  {
   "cell_type": "markdown",
   "metadata": {},
   "source": [
    "<div style=\"background-color:#AABAB2; color: black; width:90%; vertical-align: middle; padding:15px; margin: 10px; border-radius: 10px\">\n",
    "<p>\n",
    "\n",
    "$\\text{Task 1.1:}$\n",
    "    \n",
    "Run the cells below to define the parameters and visualise the analytical solution:\n",
    "\n",
    "</p>\n",
    "</div>"
   ]
  },
  {
   "cell_type": "code",
   "execution_count": null,
   "metadata": {},
   "outputs": [],
   "source": [
    "import math\n",
    "import numpy as np\n",
    "import matplotlib.pyplot as plt\n",
    "\n",
    "K = 1e-6  # hydraulic conductivity\n",
    "A = 0.1  # cross section area of the sample\n",
    "a = 0.001  # cross section area of the tube\n",
    "L = 0.1  # sample height\n",
    "h0 = 1.0  # initial groundwater head\n",
    "t0 = 0.0  # start time\n",
    "maxtime = 5000\n",
    "dt = 500\n",
    "n_steps = round(maxtime / dt)"
   ]
  },
  {
   "cell_type": "code",
   "execution_count": null,
   "metadata": {},
   "outputs": [],
   "source": [
    "t = np.linspace(0, maxtime, 1001)\n",
    "h = [h0 * math.exp(-K * A * t[i] / (a * L)) for i in range(1001)]"
   ]
  },
  {
   "cell_type": "code",
   "execution_count": null,
   "metadata": {},
   "outputs": [],
   "source": [
    "plt.plot(t, h, label=\"Analytical solution\")\n",
    "plt.xlabel(\"time [s]\")\n",
    "plt.ylabel(\"h [m]\")\n",
    "plt.legend()\n",
    "plt.show()"
   ]
  },
  {
   "cell_type": "markdown",
   "metadata": {},
   "source": [
    "### Euler Forward:"
   ]
  },
  {
   "cell_type": "markdown",
   "metadata": {},
   "source": [
    "<div style=\"background-color:#AABAB2; color: black; width:90%; vertical-align: middle; padding:15px; margin: 10px; border-radius: 10px\">\n",
    "<p>\n",
    "\n",
    "$\\text{Task 1.2:}$\n",
    "    \n",
    "Formulate the Euler Forward solution and complete the code below:\n",
    "\n",
    "</p>\n",
    "</div>"
   ]
  },
  {
   "cell_type": "code",
   "execution_count": null,
   "metadata": {
    "tags": [
     "assignment"
    ]
   },
   "outputs": [],
   "source": [
    "t_n = np.linspace(0, maxtime, n_steps+1)\n",
    "h_EF = []\n",
    "h_EF.append(h0)\n",
    "for i in range(n_steps):\n",
    "    h_new = ### YOUR CODE HERE ###\n",
    "    h_EF.append(h_new)\n"
   ]
  },
  {
   "cell_type": "markdown",
   "metadata": {
    "tags": [
     "solution"
    ]
   },
   "source": [
    "<div style=\"background-color:#FAE99E; color: black; vertical-align: middle; padding:15px; margin: 10px; border-radius: 10px; width: 90%\">\n",
    "<p>\n",
    "\n",
    "$\\text{Solution 1.2:}$\n",
    "\n",
    "</p>\n",
    "\n",
    "Euler Forward formulation:\n",
    "\n",
    "$$ \\frac{h(t_{i+1}) - h(t_i)}{\\Delta t} = - \\frac{K A}{a L} h(t_i) $$\n",
    "\n",
    "$$ h(t_{i+1}) = h(t_i) - \\Delta t \\frac{K A}{a L} h(t_i) = \\left(1 - \\Delta t \\frac{K A}{a L}\\right) h(t_i) $$\n",
    "</div>\n",
    "\n"
   ]
  },
  {
   "cell_type": "code",
   "execution_count": null,
   "metadata": {
    "tags": [
     "solution"
    ]
   },
   "outputs": [],
   "source": [
    "t_n = np.linspace(0, maxtime, n_steps + 1)\n",
    "h_EF = []\n",
    "h_EF.append(h0)\n",
    "for i in range(n_steps):\n",
    "    h_new = (1.0 - dt * K * A / (a * L)) * h_EF[-1]\n",
    "    h_EF.append(h_new)"
   ]
  },
  {
   "cell_type": "markdown",
   "metadata": {},
   "source": [
    "### Euler Backward:"
   ]
  },
  {
   "cell_type": "markdown",
   "metadata": {},
   "source": [
    "<div style=\"background-color:#AABAB2; color: black; width:90%; vertical-align: middle; padding:15px; margin: 10px; border-radius: 10px\">\n",
    "<p>\n",
    "\n",
    "$\\text{Task 1.3:}$\n",
    "    \n",
    "Formulate the Euler Backward solution and complete the code below:\n",
    "\n",
    "</p>\n",
    "</div>"
   ]
  },
  {
   "cell_type": "code",
   "execution_count": null,
   "metadata": {
    "tags": [
     "assignment"
    ]
   },
   "outputs": [],
   "source": [
    "h_EB = []\n",
    "h_EB.append(h0)\n",
    "for i in range(n_steps):\n",
    "    h_new = ### YOUR CODE HERE ###\n",
    "    h_EB.append(h_new)"
   ]
  },
  {
   "cell_type": "markdown",
   "metadata": {
    "tags": [
     "solution"
    ]
   },
   "source": [
    "<div style=\"background-color:#FAE99E; color: black; vertical-align: middle; padding:15px; margin: 10px; border-radius: 10px; width: 90%\">\n",
    "<p>\n",
    "\n",
    "$\\text{Solution 1.3:}$\n",
    "\n",
    "</p>\n",
    "\n",
    "Euler Backward formulation:\n",
    "\n",
    "$$ \\frac{h(t_{i+1}) - h(t_i)}{\\Delta t} = - \\frac{K A}{a L} h(t_{i+1}) $$\n",
    "\n",
    "$$ h(t_{i+1}) \\left(1 + \\Delta t \\frac{K A}{a L} \\right) = h(t_i) $$\n",
    "\n",
    "$$ h(t_{i+1}) = h(t_i) / \\left(1 + \\Delta t \\frac{K A}{a L} \\right) $$\n",
    "</div>\n",
    "\n"
   ]
  },
  {
   "cell_type": "code",
   "execution_count": null,
   "metadata": {
    "tags": [
     "solution"
    ]
   },
   "outputs": [],
   "source": [
    "h_EB = []\n",
    "h_EB.append(h0)\n",
    "for i in range(n_steps):\n",
    "    h_new = h_EB[-1] / (1.0 + dt * K * A / (a * L))\n",
    "    h_EB.append(h_new)"
   ]
  },
  {
   "cell_type": "markdown",
   "metadata": {},
   "source": [
    "### Heun's Method (= 2-stage Runge-Kutta):"
   ]
  },
  {
   "cell_type": "markdown",
   "metadata": {},
   "source": [
    "<div style=\"background-color:#AABAB2; color: black; width:90%; vertical-align: middle; padding:15px; margin: 10px; border-radius: 10px\">\n",
    "<p>\n",
    "\n",
    "$\\text{Task 1.4:}$\n",
    "    \n",
    "Formulate Heun's solution and complete the code below:\n",
    "\n",
    "</p>\n",
    "</div>"
   ]
  },
  {
   "cell_type": "code",
   "execution_count": null,
   "metadata": {
    "tags": [
     "assignment"
    ]
   },
   "outputs": [],
   "source": [
    "h_RK2 = []\n",
    "h_RK2.append(h0)\n",
    "for i in range(n_steps):\n",
    "    fac = -K*A / (a*L)\n",
    "    k1 =  ### YOUR CODE HERE ###\n",
    "    k2 =  ### YOUR CODE HERE ###\n",
    "    h_new =  ### YOUR CODE HERE ###\n",
    "    h_RK2.append(h_new)"
   ]
  },
  {
   "cell_type": "markdown",
   "metadata": {
    "tags": [
     "solution"
    ]
   },
   "source": [
    "<div style=\"background-color:#FAE99E; color: black; vertical-align: middle; padding:15px; margin: 10px; border-radius: 10px; width: 90%\">\n",
    "<p>\n",
    "\n",
    "$\\text{Solution 1.4:}$\n",
    "\n",
    "</p>\n",
    "\n",
    "Heun's method:\n",
    "\n",
    "$$ h(t_{i+1}) = h(t_i) + \\frac{\\Delta t}{2} \\left(k_1 + k_2 \\right) $$\n",
    "\n",
    "$$ k_1 = \\frac{d h}{dt} \\bigg\\rvert_{t=t_i} = - \\frac{K A}{a L} h(t_i) $$\n",
    "\n",
    "$$ k_2 = \\frac{d h}{dt} \\bigg\\rvert_{t=t_{i+1*}} \\space with \\space h(t_{i+1*}) = h(t_i) - \\Delta t \\frac{K A}{a L} h(t_i) $$\n",
    "\n",
    "Hence:\n",
    "\n",
    "$$ k_2 = - \\frac{K A}{a L} \\left(h(t_i) - \\Delta t \\frac{K A}{a L} h(t_i) \\right) = - \\frac{K A}{a L} \\left(h(t_i) + \\Delta t k_1 \\right) $$\n",
    "</div>\n",
    "\n"
   ]
  },
  {
   "cell_type": "code",
   "execution_count": null,
   "metadata": {
    "tags": [
     "solution"
    ]
   },
   "outputs": [],
   "source": [
    "h_RK2 = []\n",
    "h_RK2.append(h0)\n",
    "for i in range(n_steps):\n",
    "    fac = -K * A / (a * L)\n",
    "    k1 = fac * h_RK2[-1]\n",
    "    k2 = fac * (h_RK2[-1] + dt * k1)\n",
    "    h_new = h_RK2[-1] + dt / 2 * (k1 + k2)\n",
    "    h_RK2.append(h_new)"
   ]
  },
  {
   "cell_type": "markdown",
   "metadata": {},
   "source": [
    "### 4-stage Runge-Kutta:"
   ]
  },
  {
   "cell_type": "markdown",
   "metadata": {},
   "source": [
    "<div style=\"background-color:#AABAB2; color: black; width:90%; vertical-align: middle; padding:15px; margin: 10px; border-radius: 10px\">\n",
    "<p>\n",
    "\n",
    "$\\text{Task 1.5:}$\n",
    "    \n",
    "Formulate the 4-stage Runge-Kutta solution and complete the code below:\n",
    "\n",
    "</p>\n",
    "</div>"
   ]
  },
  {
   "cell_type": "code",
   "execution_count": null,
   "metadata": {
    "tags": [
     "assignment"
    ]
   },
   "outputs": [],
   "source": [
    "h_RK4 = []\n",
    "h_RK4.append(h0)\n",
    "for i in range(n_steps):\n",
    "    fac = -K*A / (a*L)\n",
    "    k1 =  ### YOUR CODE HERE ###\n",
    "    k2 =  ### YOUR CODE HERE ###\n",
    "    k3 =  ### YOUR CODE HERE ###\n",
    "    k4 =  ### YOUR CODE HERE ###\n",
    "    h_new =  ### YOUR CODE HERE ###\n",
    "    h_RK4.append(h_new)"
   ]
  },
  {
   "cell_type": "markdown",
   "metadata": {
    "tags": [
     "solution"
    ]
   },
   "source": [
    "<div style=\"background-color:#FAE99E; color: black; vertical-align: middle; padding:15px; margin: 10px; border-radius: 10px; width: 90%\">\n",
    "<p>\n",
    "\n",
    "$\\text{Solution 1.5:}$\n",
    "\n",
    "</p>\n",
    "\n",
    "Runge-Kutta's method:\n",
    "\n",
    "$$ h(t_{i+1}) = h(t_i) + \\frac{\\Delta t}{6} \\left(k_1 + 2 k_2 + 2 k_3 + k_4 \\right) $$\n",
    "\n",
    "$$ k_1 = \\frac{d h}{dt} \\bigg\\rvert_{t=t_i} = - \\frac{K A}{a L} h(t_i) $$\n",
    "\n",
    "$$ k_2 = \\frac{d h}{dt} \\bigg\\rvert_{t=t_{i+1/2*}} \\space \\text{with} \\space h(t_{i+1/2*}) = h(t_i) - \\frac{\\Delta t}{2} \\frac{K A}{a L} h(t_i) = h(t_i) + \\frac{\\Delta t}{2} k_1 $$\n",
    "\n",
    "$$ k_3 = \\frac{d h}{dt} \\bigg\\rvert_{t=t_{i+1/2}} \\space \\text{with} \\space h(t_{i+1/2}) = h(t_i) - \\frac{\\Delta t}{2} \\frac{K A}{a L} h(t_{i+1/2*}) = h(t_i) + \\frac{\\Delta t}{2} k_2 $$\n",
    "\n",
    "$$ k_4 = \\frac{d h}{dt} \\bigg\\rvert_{t=t_{i+1*}} \\space \\text{with} \\space h(t_{i+1*}) = h(t_i) - \\Delta t \\frac{K A}{a L} h(t_{i+1/2}) = h(t_i) + \\Delta t k_3$$\n",
    "</div>\n",
    "\n"
   ]
  },
  {
   "cell_type": "code",
   "execution_count": null,
   "metadata": {
    "tags": [
     "solution"
    ]
   },
   "outputs": [],
   "source": [
    "h_RK4 = []\n",
    "h_RK4.append(h0)\n",
    "for i in range(n_steps):\n",
    "    fac = -K * A / (a * L)\n",
    "    k1 = fac * h_RK4[-1]\n",
    "    k2 = fac * (h_RK4[-1] + dt / 2 * k1)\n",
    "    k3 = fac * (h_RK4[-1] + dt / 2 * k2)\n",
    "    k4 = fac * (h_RK4[-1] + dt * k3)\n",
    "    h_new = h_RK4[-1] + dt / 6 * (k1 + 2 * k2 + 2 * k3 + k4)\n",
    "    h_RK4.append(h_new)"
   ]
  },
  {
   "cell_type": "markdown",
   "metadata": {},
   "source": [
    "### Plot results"
   ]
  },
  {
   "cell_type": "markdown",
   "metadata": {},
   "source": [
    "<div style=\"background-color:#AABAB2; color: black; width:90%; vertical-align: middle; padding:15px; margin: 10px; border-radius: 10px\">\n",
    "<p>\n",
    "\n",
    "$\\text{Task 1.6:}$\n",
    "    \n",
    "Run the code cell below to show the different solutions:\n",
    "\n",
    "</p>\n",
    "</div>"
   ]
  },
  {
   "cell_type": "code",
   "execution_count": null,
   "metadata": {},
   "outputs": [],
   "source": [
    "plt.plot(t, h, label=\"True solution\")\n",
    "plt.plot(t_n, h_EF, label=f\"Explicit Euler (dt={dt})\", marker=\".\")\n",
    "plt.plot(t_n, h_EB, label=f\"Implicit Euler (dt={dt})\", marker=\".\")\n",
    "plt.plot(t_n, h_RK2, label=f\"Heun's method (dt={dt})\", marker=\".\")\n",
    "plt.plot(t_n, h_RK4, label=f\"Runge-Kutta (dt={dt})\", marker=\".\")\n",
    "plt.xlabel(\"time [s]\")\n",
    "plt.ylabel(\"h [m]\")\n",
    "plt.legend()\n",
    "plt.show()"
   ]
  },
  {
   "cell_type": "markdown",
   "metadata": {},
   "source": [
    "<div style=\"background-color:#AABAB2; color: black; width:90%; vertical-align: middle; padding:15px; margin: 10px; border-radius: 10px\">\n",
    "<p>\n",
    "\n",
    "$\\text{Task 1.7:}$\n",
    "    \n",
    "Comment on the various results in view of the true solution and their numerical stability.\n",
    "\n",
    "</p>\n",
    "</div>"
   ]
  },
  {
   "cell_type": "markdown",
   "metadata": {
    "tags": [
     "solution"
    ]
   },
   "source": [
    "<div style=\"background-color:#FAE99E; color: black; vertical-align: middle; padding:15px; margin: 10px; border-radius: 10px; width: 90%\">\n",
    "<p>\n",
    "\n",
    "$\\text{Solution 1.7:}$\n",
    "\n",
    "Euler Forward solution is unstable for $dt > 2000$ and predicts $h$ to decrease too quickly. Note that for $dt > 1000$ the solution already starts oscillating and becomes non-physical (showing negative $h$-values).\n",
    "\n",
    "Euler Backward solution is unconditionally stable but predicts $h$ to decrease too slowly.\n",
    "\n",
    "Heun's solution is stable and more accurate than the Euler solutions; still, $h$ decreases a bit too slowly.\n",
    "\n",
    "Runge-Kutta's solution is stable and much more accurate than the other solutions.\n",
    "\n"
   ]
  },
  {
   "cell_type": "markdown",
   "metadata": {},
   "source": [
    "<div style=\"margin-top: 50px; padding-top: 20px; border-top: 1px solid #ccc;\">\n",
    "  <div style=\"display: flex; justify-content: flex-end; gap: 20px; align-items: center;\">\n",
    "    <a rel=\"MUDE\" href=\"http://mude.citg.tudelft.nl/\">\n",
    "      <img alt=\"MUDE\" style=\"width:100px; height:auto;\" src=\"https://gitlab.tudelft.nl/mude/public/-/raw/main/mude-logo/MUDE_Logo-small.png\" />\n",
    "    </a>\n",
    "    <a rel=\"TU Delft\" href=\"https://www.tudelft.nl/en/ceg\">\n",
    "      <img alt=\"TU Delft\" style=\"width:100px; height:auto;\" src=\"https://gitlab.tudelft.nl/mude/public/-/raw/main/tu-logo/TU_P1_full-color.png\" />\n",
    "    </a>\n",
    "    <a rel=\"license\" href=\"http://creativecommons.org/licenses/by/4.0/\">\n",
    "      <img alt=\"Creative Commons License\" style=\"width:88px; height:auto;\" src=\"https://i.creativecommons.org/l/by/4.0/88x31.png\" />\n",
    "    </a>\n",
    "  </div>\n",
    "  <div style=\"font-size: 75%; margin-top: 10px; text-align: right;\">\n",
    "    &copy; Copyright 2025 <a rel=\"MUDE\" href=\"http://mude.citg.tudelft.nl/\">MUDE</a> TU Delft. \n",
    "    This work is licensed under a <a rel=\"license\" href=\"http://creativecommons.org/licenses/by/4.0/\">CC BY 4.0 License</a>.\n",
    "  </div>\n",
    "</div>"
   ]
  }
 ],
 "metadata": {
  "kernelspec": {
   "display_name": "mude-base",
   "language": "python",
   "name": "python3"
  },
  "language_info": {
   "codemirror_mode": {
    "name": "ipython",
    "version": 3
   },
   "file_extension": ".py",
   "mimetype": "text/x-python",
   "name": "python",
   "nbconvert_exporter": "python",
   "pygments_lexer": "ipython3",
   "version": "3.12.11"
  }
 },
 "nbformat": 4,
 "nbformat_minor": 2
}
