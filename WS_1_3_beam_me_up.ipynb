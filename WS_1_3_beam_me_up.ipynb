{
 "cells": [
  {
   "cell_type": "markdown",
   "metadata": {},
   "source": [
    "# Workshop 1.3 'Beam me up'\n",
    "\n",
    "*[CEGM1000 MUDE](http://mude.citg.tudelft.nl/)*\n",
    "\n",
    "*Written by: Ronald Brinkgreve, Anna Störiko*\n",
    "\n",
    "*Due: Wednesday, September 17, 2025.*"
   ]
  },
  {
   "cell_type": "markdown",
   "metadata": {},
   "source": [
    "## Part 1 Groundwater flow: Hydraulic conductivity - Falling head test"
   ]
  },
  {
   "cell_type": "markdown",
   "metadata": {},
   "source": [
    "### Solving ordinary differential equation - Initial value problem\n",
    "\n",
    "![falling head test](https://files.mude.citg.tudelft.nl/falling_head.png)\n",
    "\n",
    "The falling head test is a test to determine the hydraulic conductivity (permeability) of a soil sample.\n",
    "The soil sample is put in a box with water. A glass tube in the sample is used to measure the hydraulic head $h$.\n",
    "Before the test, water is poured in the tube while the valve is closed.\n",
    "At the start of the test, the valve is opened and the decrease of the hydraulic head is measured over time.\n",
    "\n",
    "The hydraulic head $h$ in this test can be defined by the following ordinary differential equation:\n",
    "\n",
    "$$ \\frac{dh}{dt} = - \\frac{K A h}{a L} $$\n",
    "\n",
    "where\n",
    "*   h = hydraulic head (measured in the tube)\n",
    "*   K = permeability (hydraulic conductivity)\n",
    "*   A = cross section area of the sample\n",
    "*   a = cross section area of the tube\n",
    "*   L = sample height\n",
    "\n",
    "> Source: A. Verruijt, Grondmechanica / Soil Mechanics; https://geo.verruijt.net/software/SoilMechBook2012.pdf (to be used, copied and distributed without restriction)\n",
    "\n",
    "In this notebook we will solve the decreasing hydraulic head ('falling head') $h$ in time ($t$)"
   ]
  },
  {
   "cell_type": "markdown",
   "metadata": {},
   "source": [
    "### True solution:\n",
    "The true solution can be obtained by solving the differential equation analytically:\n",
    "$$h = h_0 \\space \\exp \\left( \\frac{-K A t}{a L} \\right) $$\n"
   ]
  },
  {
   "cell_type": "markdown",
   "metadata": {},
   "source": [
    "<div style=\"background-color:#AABAB2; color: black; width:90%; vertical-align: middle; padding:15px; margin: 10px; border-radius: 10px\">\n",
    "<p>\n",
    "\n",
    "$\\text{Task 1.1:}$\n",
    "    \n",
    "Run the cells below to define the parameters and visualise the analytical solution:\n",
    "\n",
    "</p>\n",
    "</div>"
   ]
  },
  {
   "cell_type": "code",
   "execution_count": null,
   "metadata": {},
   "outputs": [],
   "source": [
    "import math\n",
    "import numpy as np\n",
    "import matplotlib.pyplot as plt\n",
    "\n",
    "k = 1e-6  # permeability\n",
    "A = 0.1  # cross section area of the sample\n",
    "a = 0.001  # cross section area of the tube\n",
    "L = 0.1  # sample height\n",
    "h0 = 1.0  # initial groundwater head\n",
    "t0 = 0.0  # start time\n",
    "maxtime = 5000\n",
    "dt = 500\n",
    "n_steps = round(maxtime / dt)"
   ]
  },
  {
   "cell_type": "code",
   "execution_count": null,
   "metadata": {},
   "outputs": [],
   "source": [
    "t = np.linspace(0, maxtime, 1001)\n",
    "h = [h0 * math.exp(-k * A * t[i] / (a * L)) for i in range(1001)]"
   ]
  },
  {
   "cell_type": "code",
   "execution_count": null,
   "metadata": {},
   "outputs": [],
   "source": [
    "plt.plot(t, h, label=\"Analytical solution\")\n",
    "plt.xlabel(\"time [s]\")\n",
    "plt.ylabel(\"h [m]\")\n",
    "plt.legend()\n",
    "plt.show()"
   ]
  },
  {
   "cell_type": "markdown",
   "metadata": {},
   "source": [
    "### Euler Forward:"
   ]
  },
  {
   "cell_type": "markdown",
   "metadata": {},
   "source": [
    "<div style=\"background-color:#AABAB2; color: black; width:90%; vertical-align: middle; padding:15px; margin: 10px; border-radius: 10px\">\n",
    "<p>\n",
    "\n",
    "$\\text{Task 1.2:}$\n",
    "    \n",
    "Formulate the Euler Forward solution and complete the code below:\n",
    "\n",
    "</p>\n",
    "</div>"
   ]
  },
  {
   "cell_type": "code",
   "execution_count": null,
   "metadata": {
    "tags": [
     "assignment"
    ]
   },
   "outputs": [],
   "source": [
    "t_n = np.linspace(0, maxtime, n_steps+1)\n",
    "h_EF = []\n",
    "h_EF.append(h0)\n",
    "for i in range(n_steps):\n",
    "    h_new = ### YOUR CODE HERE ###\n",
    "    h_EF.append(h_new)\n"
   ]
  },
  {
   "cell_type": "markdown",
   "metadata": {
    "tags": [
     "solution"
    ]
   },
   "source": [
    "<div style=\"background-color:#FAE99E; color: black; vertical-align: middle; padding:15px; margin: 10px; border-radius: 10px; width: 90%\">\n",
    "<p>\n",
    "\n",
    "$\\text{Solution 1.2:}$\n",
    "\n",
    "</p>\n",
    "\n",
    "Euler Forward formulation:\n",
    "\n",
    "$$ \\frac{h(t_{i+1}) - h(t_i)}{\\Delta t} = - \\frac{K A}{a L} h(t_i) $$\n",
    "\n",
    "$$ h(t_{i+1}) = h(t_i) - \\Delta t \\frac{K A}{a L} h(t_i) = \\left(1 - \\Delta t \\frac{K A}{a L}\\right) h(t_i) $$\n",
    "</div>\n",
    "\n"
   ]
  },
  {
   "cell_type": "code",
   "execution_count": null,
   "metadata": {
    "tags": [
     "solution"
    ]
   },
   "outputs": [],
   "source": [
    "t_n = np.linspace(0, maxtime, n_steps + 1)\n",
    "h_EF = []\n",
    "h_EF.append(h0)\n",
    "for i in range(n_steps):\n",
    "    h_new = (1.0 - dt * k * A / (a * L)) * h_EF[-1]\n",
    "    h_EF.append(h_new)"
   ]
  },
  {
   "cell_type": "markdown",
   "metadata": {},
   "source": [
    "### Euler Backward:"
   ]
  },
  {
   "cell_type": "markdown",
   "metadata": {},
   "source": [
    "<div style=\"background-color:#AABAB2; color: black; width:90%; vertical-align: middle; padding:15px; margin: 10px; border-radius: 10px\">\n",
    "<p>\n",
    "\n",
    "$\\text{Task 1.3:}$\n",
    "    \n",
    "Formulate the Euler Backward solution and complete the code below:\n",
    "\n",
    "</p>\n",
    "</div>"
   ]
  },
  {
   "cell_type": "code",
   "execution_count": null,
   "metadata": {
    "tags": [
     "assignment"
    ]
   },
   "outputs": [],
   "source": [
    "h_EB = []\n",
    "h_EB.append(h0)\n",
    "for i in range(n_steps):\n",
    "    h_new = ### YOUR CODE HERE ###\n",
    "    h_EB.append(h_new)"
   ]
  },
  {
   "cell_type": "markdown",
   "metadata": {
    "tags": [
     "solution"
    ]
   },
   "source": [
    "<div style=\"background-color:#FAE99E; color: black; vertical-align: middle; padding:15px; margin: 10px; border-radius: 10px; width: 90%\">\n",
    "<p>\n",
    "\n",
    "$\\text{Solution 1.3:}$\n",
    "\n",
    "</p>\n",
    "\n",
    "Euler Backward formulation:\n",
    "\n",
    "$$ \\frac{h(t_{i+1}) - h(t_i)}{\\Delta t} = - \\frac{K A}{a L} h(t_{i+1}) $$\n",
    "\n",
    "$$ h(t_{i+1}) \\left(1 + \\Delta t \\frac{K A}{a L} \\right) = h(t_i) $$\n",
    "\n",
    "$$ h(t_{i+1}) = h(t_i) / \\left(1 + \\Delta t \\frac{K A}{a L} \\right) $$\n",
    "</div>\n",
    "\n"
   ]
  },
  {
   "cell_type": "code",
   "execution_count": null,
   "metadata": {
    "tags": [
     "solution"
    ]
   },
   "outputs": [],
   "source": [
    "h_EB = []\n",
    "h_EB.append(h0)\n",
    "for i in range(n_steps):\n",
    "    h_new = h_EB[-1] / (1.0 + dt * k * A / (a * L))\n",
    "    h_EB.append(h_new)"
   ]
  },
  {
   "cell_type": "markdown",
   "metadata": {},
   "source": [
    "### Heun's method (= 2-stage Runge-Kutta):"
   ]
  },
  {
   "cell_type": "markdown",
   "metadata": {},
   "source": [
    "<div style=\"background-color:#AABAB2; color: black; width:90%; vertical-align: middle; padding:15px; margin: 10px; border-radius: 10px\">\n",
    "<p>\n",
    "\n",
    "$\\text{Task 1.4:}$\n",
    "    \n",
    "Formulate Heun's solution and complete the code below:\n",
    "\n",
    "</p>\n",
    "</div>"
   ]
  },
  {
   "cell_type": "code",
   "execution_count": null,
   "metadata": {
    "tags": [
     "assignment"
    ]
   },
   "outputs": [],
   "source": [
    "h_RK2 = []\n",
    "h_RK2.append(h0)\n",
    "for i in range(n_steps):\n",
    "    fac = -k*A / (a*L)\n",
    "    k1 =  ### YOUR CODE HERE ###\n",
    "    k2 =  ### YOUR CODE HERE ###\n",
    "    h_new =  ### YOUR CODE HERE ###\n",
    "    h_RK2.append(h_new)"
   ]
  },
  {
   "cell_type": "markdown",
   "metadata": {
    "tags": [
     "solution"
    ]
   },
   "source": [
    "<div style=\"background-color:#FAE99E; color: black; vertical-align: middle; padding:15px; margin: 10px; border-radius: 10px; width: 90%\">\n",
    "<p>\n",
    "\n",
    "$\\text{Solution 1.4:}$\n",
    "\n",
    "</p>\n",
    "\n",
    "Heun's method:\n",
    "\n",
    "$$ h(t_{i+1}) = h(t_i) + \\frac{\\Delta t}{2} \\left(k_1 + k_2 \\right) $$\n",
    "\n",
    "$$ k_1 = \\frac{d h}{dt} \\bigg\\rvert_{t=t_i} = - \\frac{K A}{a L} h(t_i) $$\n",
    "\n",
    "$$ k_2 = \\frac{d h}{dt} \\bigg\\rvert_{t=t_{i+1*}} \\space with \\space h(t_{i+1*}) = h(t_i) - \\Delta t \\frac{K A}{a L} h(t_i) $$\n",
    "\n",
    "Hence:\n",
    "\n",
    "$$ k_2 = - \\frac{K A}{a L} \\left(h(t_i) - \\Delta t \\frac{K A}{a L} h(t_i) \\right) = - \\frac{K A}{a L} \\left(h(t_i) + \\Delta t k_1 \\right) $$\n",
    "</div>\n",
    "\n"
   ]
  },
  {
   "cell_type": "code",
   "execution_count": null,
   "metadata": {
    "tags": [
     "solution"
    ]
   },
   "outputs": [],
   "source": [
    "h_RK2 = []\n",
    "h_RK2.append(h0)\n",
    "for i in range(n_steps):\n",
    "    fac = -k * A / (a * L)\n",
    "    k1 = fac * h_RK2[-1]\n",
    "    k2 = fac * (h_RK2[-1] + dt * k1)\n",
    "    h_new = h_RK2[-1] + dt / 2 * (k1 + k2)\n",
    "    h_RK2.append(h_new)"
   ]
  },
  {
   "cell_type": "markdown",
   "metadata": {},
   "source": [
    "### 4-stage Runge-Kutta:"
   ]
  },
  {
   "cell_type": "markdown",
   "metadata": {},
   "source": [
    "<div style=\"background-color:#AABAB2; color: black; width:90%; vertical-align: middle; padding:15px; margin: 10px; border-radius: 10px\">\n",
    "<p>\n",
    "\n",
    "$\\text{Task 1.5:}$\n",
    "    \n",
    "Formulate the 4-stage Runge-Kutta solution and complete the code below:\n",
    "\n",
    "</p>\n",
    "</div>"
   ]
  },
  {
   "cell_type": "code",
   "execution_count": null,
   "metadata": {
    "tags": [
     "assignment"
    ]
   },
   "outputs": [],
   "source": [
    "h_RK4 = []\n",
    "h_RK4.append(h0)\n",
    "for i in range(n_steps):\n",
    "    fac = -k*A / (a*L)\n",
    "    k1 =  ### YOUR CODE HERE ###\n",
    "    k2 =  ### YOUR CODE HERE ###\n",
    "    k3 =  ### YOUR CODE HERE ###\n",
    "    k4 =  ### YOUR CODE HERE ###\n",
    "    h_new =  ### YOUR CODE HERE ###\n",
    "    h_RK4.append(h_new)"
   ]
  },
  {
   "cell_type": "markdown",
   "metadata": {
    "tags": [
     "solution"
    ]
   },
   "source": [
    "<div style=\"background-color:#FAE99E; color: black; vertical-align: middle; padding:15px; margin: 10px; border-radius: 10px; width: 90%\">\n",
    "<p>\n",
    "\n",
    "$\\text{Solution 1.5:}$\n",
    "\n",
    "</p>\n",
    "\n",
    "Runge-Kutta's method:\n",
    "\n",
    "$$ h(t_{i+1}) = h(t_i) + \\frac{\\Delta t}{6} \\left(k_1 + 2 k_2 + 2 k_3 + k_4 \\right) $$\n",
    "\n",
    "$$ k_1 = \\frac{d h}{dt} \\bigg\\rvert_{t=t_i} = - \\frac{K A}{a L} h(t_i) $$\n",
    "\n",
    "$$ k_2 = \\frac{d h}{dt} \\bigg\\rvert_{t=t_{i+1/2*}} \\space \\text{with} \\space h(t_{i+1/2*}) = h(t_i) - \\frac{\\Delta t}{2} \\frac{K A}{a L} h(t_i) = h(t_i) + \\frac{\\Delta t}{2} k_1 $$\n",
    "\n",
    "$$ k_3 = \\frac{d h}{dt} \\bigg\\rvert_{t=t_{i+1/2}} \\space \\text{with} \\space h(t_{i+1/2}) = h(t_i) - \\frac{\\Delta t}{2} \\frac{K A}{a L} h(t_{i+1/2*}) = h(t_i) + \\frac{\\Delta t}{2} k_2 $$\n",
    "\n",
    "$$ k_4 = \\frac{d h}{dt} \\bigg\\rvert_{t=t_{i+1*}} \\space \\text{with} \\space h(t_{i+1*}) = h(t_i) - \\Delta t \\frac{K A}{a L} h(t_{i+1/2}) = h(t_i) + \\Delta t k_3$$\n",
    "</div>\n",
    "\n"
   ]
  },
  {
   "cell_type": "code",
   "execution_count": null,
   "metadata": {
    "tags": [
     "solution"
    ]
   },
   "outputs": [],
   "source": [
    "h_RK4 = []\n",
    "h_RK4.append(h0)\n",
    "for i in range(n_steps):\n",
    "    fac = -k * A / (a * L)\n",
    "    k1 = fac * h_RK4[-1]\n",
    "    k2 = fac * (h_RK4[-1] + dt / 2 * k1)\n",
    "    k3 = fac * (h_RK4[-1] + dt / 2 * k2)\n",
    "    k4 = fac * (h_RK4[-1] + dt * k3)\n",
    "    h_new = h_RK4[-1] + dt / 6 * (k1 + 2 * k2 + 2 * k3 + k4)\n",
    "    h_RK4.append(h_new)"
   ]
  },
  {
   "cell_type": "markdown",
   "metadata": {},
   "source": [
    "### Plot results"
   ]
  },
  {
   "cell_type": "markdown",
   "metadata": {},
   "source": [
    "<div style=\"background-color:#AABAB2; color: black; width:90%; vertical-align: middle; padding:15px; margin: 10px; border-radius: 10px\">\n",
    "<p>\n",
    "\n",
    "$\\text{Task 1.6:}$\n",
    "    \n",
    "Run the code cell below to show the different solutions:\n",
    "\n",
    "</p>\n",
    "</div>"
   ]
  },
  {
   "cell_type": "code",
   "execution_count": null,
   "metadata": {},
   "outputs": [],
   "source": [
    "plt.plot(t, h, label=\"True solution\")\n",
    "plt.plot(t_n, h_EF, label=f\"Explicit Euler (dt={dt})\", marker=\".\")\n",
    "plt.plot(t_n, h_EB, label=f\"Implicit Euler (dt={dt})\", marker=\".\")\n",
    "plt.plot(t_n, h_RK2, label=f\"Heun's method (dt={dt})\", marker=\".\")\n",
    "plt.plot(t_n, h_RK4, label=f\"Runge-Kutta (dt={dt})\", marker=\".\")\n",
    "plt.xlabel(\"time [s]\")\n",
    "plt.ylabel(\"h [m]\")\n",
    "plt.legend()\n",
    "plt.show()"
   ]
  },
  {
   "cell_type": "markdown",
   "metadata": {},
   "source": [
    "<div style=\"background-color:#AABAB2; color: black; width:90%; vertical-align: middle; padding:15px; margin: 10px; border-radius: 10px\">\n",
    "<p>\n",
    "\n",
    "$\\text{Task 1.7:}$\n",
    "    \n",
    "Comment on the various results in view of the true solution and their numerical stability.\n",
    "\n",
    "</p>\n",
    "</div>"
   ]
  },
  {
   "cell_type": "markdown",
   "metadata": {
    "tags": [
     "solution"
    ]
   },
   "source": [
    "<div style=\"background-color:#FAE99E; color: black; vertical-align: middle; padding:15px; margin: 10px; border-radius: 10px; width: 90%\">\n",
    "<p>\n",
    "\n",
    "$\\text{Solution 1.7:}$\n",
    "\n",
    "Euler Forward solution is unstable for $dt > 2000$ and predicts $h$ to decrease too quickly.\n",
    "\n",
    "Euler Backward solution is unconditionally stable but predicts $h$ to decrease too slowly.\n",
    "\n",
    "Heun's solution is stable and more accurate than the Euler solutions; still, $h$ decreases a bit too slowly.\n",
    "\n",
    "Runge-Kutta's solution is stable and much more accurate than the other solutions.\n",
    "\n"
   ]
  },
  {
   "cell_type": "markdown",
   "metadata": {},
   "source": [
    "## Part 2: Boundary value problem: Euler-Bernoulli bending beam"
   ]
  },
  {
   "cell_type": "markdown",
   "metadata": {},
   "source": [
    "![bending beam](https://files.mude.citg.tudelft.nl/bending_beam.png)\n",
    "\n",
    "> Adapted from https://commons.wikimedia.org/wiki/File:Euler-Bernoulli_beam_theory-2.svg. https://commons.wikimedia.org/wiki/File:Euler-Bernoulli_beam_theory-2.svg (CC BY 3.0).\n",
    "\n",
    "The bending deflection of a beam, subject to a distributed load $q$, and the corresponding bending moment distribution, is a boundary value problem that can be described by two second-order differential equations according to Euler-Bernoulli:"
   ]
  },
  {
   "cell_type": "markdown",
   "metadata": {},
   "source": [
    "Bending moments $M$:\n",
    "\n",
    "$$ \\frac{d^2 M}{dx^2} = -q $$\n",
    "\n",
    "Beam deflection $w$:\n",
    "\n",
    "$$ M = - EI \\frac{d^2 w}{dx^2} $$\n",
    "\n",
    "where\n",
    "*   $M$ = bending moment\n",
    "*   $w$ = beam deflection\n",
    "*   $q$ = distributed load\n",
    "*   $EI$ = flexural rigidity (bending stiffness)\n",
    "*   $x$ = longitudinal direction\n",
    "\n",
    "The boundary conditions for this problem depend on how the beam is supported at the left and right ends. In this case, we consider a simply supported beam where the displacement and the bending moment are zero at both ends of the beam:\n",
    "\n",
    "*   $M_{x=0}$ = 0\n",
    "*   $w_{x=0}$ = 0\n",
    "*   $M_{x=L}$ = 0\n",
    "*   $w_{x=L}$ = 0         (these are all Dirichlet boundary conditions)\n",
    "\n",
    "![simply supported beam](https://files.mude.citg.tudelft.nl/simply_supported.png)\n"
   ]
  },
  {
   "cell_type": "markdown",
   "metadata": {},
   "source": [
    "### Numerical solution\n",
    "\n",
    "First, we will implement a numerical solution solving the two differential equations sequentially (one after the other), by using a central difference scheme for both equations.\n",
    "\n",
    "### Central Difference scheme for both equations\n",
    "\n",
    "The Central Difference scheme can be formulated in terms of bending moments $M_i$ and beam deflection $w_i$ where $i$ refers to the position in the numerical grid.\n",
    "\n",
    "$$ \\frac{M_{i-1} - 2 M_i + M{i+1}}{\\Delta x^2} = -q_i \\quad \\text{or} \\quad M_{i-1} - 2 M_i + M_{i+1} = - \\Delta x^2 q_i $$\n",
    "\n",
    "$$ - \\frac{M_i}{EI} = \\frac{w_{i-1} - 2 w_i + w_{i+1}}{\\Delta x^2} \\quad \\text{or} \\quad  w_{i-1} - 2 w_i + w_{i+1} = -\\frac{\\Delta x^2}{EI} M_i \\quad \\text{or} \\quad \\frac{\\Delta x^2}{EI} M_i + w_{i-1} - 2 w_i + w_{i+1} = 0 $$\n",
    "\n",
    "Starting from $i=1$ we get:\n",
    "$$ \\quad M_0 - 2 M_1 + M_2 = - \\Delta x^2 q_1 $$\n",
    "$$ \\quad M_1 - 2 M_2 + M_3 = - \\Delta x^2 q_2 $$\n",
    "$$ \\text{etc.}$$\n",
    "and \n",
    "$$ \\quad w_0 - 2 w_1 + w_2 = -\\frac{\\Delta x^2}{EI} M_1 $$\n",
    "$$ \\quad w_1 - 2 w_2 + w_3 = -\\frac{\\Delta x^2}{EI} M_2 $$\n",
    "$$ \\text{etc.}$$\n",
    "\n",
    "By considering all $i$-values in the grid, ranging from $1$ to $n-1$ (excluding the boundaries), we end up with two systems of $n-1$ equations with $n-1$ unknowns.\n",
    "Without the boundary conditions, these systems are singular. We need to add the boundary conditions to make it solvable.\n",
    "This can simply be done by adding the following equations to the top and bottom of the system, ending up with two systems of $n+1$ equations with $n+1$ unknowns:\n",
    "$$ \\quad M_0 = M_{x=0}$$\n",
    "$$ \\quad M_n = M_{x=L}$$\n",
    "$$ \\quad w_0 = w_{x=0}$$\n",
    "$$ \\quad w_n = w_{x=L}$$\n",
    "\n",
    "Since the bending moments $M$ can be solved independendly from the beam deflection $w$, we can solve the first system first, and use the solution (i.c. $M$) to solve the second system, which depends on $M$.\n",
    "\n",
    "We can write a system of equations as a matrix-vector system $A u = b$ by collecting all unknowns (here $M$ and $w$) in vector $u$ and putting the right-hand terms in vector $b$.\n",
    "\n"
   ]
  },
  {
   "cell_type": "markdown",
   "metadata": {},
   "source": [
    "<div style=\"background-color:#AABAB2; color: black; width:90%; vertical-align: middle; padding:15px; margin: 10px; border-radius: 10px\">\n",
    "<p>\n",
    "\n",
    "$\\text{Task 2.1:}$\n",
    "    \n",
    "Formulate the above equations from the central difference scheme as two separate matrix-vector systems. Include the grid boundaries and boundary conditions in the system.\n",
    "\n",
    "</p>\n",
    "</div>"
   ]
  },
  {
   "cell_type": "markdown",
   "metadata": {
    "tags": [
     "solution"
    ]
   },
   "source": [
    "<div style=\"background-color:#FAE99E; color: black; vertical-align: middle; padding:15px; margin: 10px; border-radius: 10px; width: 90%\">\n",
    "<p>\n",
    "\n",
    "$\\text{Solution 2.1:}$\n",
    "\n",
    "</p>\n",
    "\n",
    "$$\n",
    "\\left[\n",
    "\\begin{matrix}\n",
    "1 & 0 & 0 & 0 & {} & {} & {} & {} \\\\\n",
    "1 & -2 & 1 & 0 & {} & {} & {} & {} \\\\\n",
    "0 & 1 & -2 & 1 & {} & {} & {} & {} \\\\\n",
    "\\vdots & \\vdots & \\vdots & \\vdots & \\vdots & \\vdots & \\vdots & \\vdots \\\\\n",
    "{} & {} & {} & {} & 1 & -2 & 1 & 0 \\\\\n",
    "{} & {} & {} & {} & 0 & 1 & -2 & 1 \\\\\n",
    "{} & {} & {} & {} & 0 & 0 & 0 & 1 \\\\\n",
    "\\end{matrix}\n",
    "\\right]\n",
    "\\left[\n",
    "\\begin{matrix}\n",
    "M_0 \\\\\n",
    "M_1 \\\\\n",
    "M_2 \\\\\n",
    "\\vdots \\\\\n",
    "M_{n-2} \\\\\n",
    "M_{n-1} \\\\\n",
    "M_n \\\\\n",
    "\\end{matrix}\n",
    "\\right]\n",
    "=\n",
    "\\left[\n",
    "\\begin{matrix}\n",
    "M_{x=0} \\\\\n",
    "- \\Delta x^2 q \\\\\n",
    "- \\Delta x^2 q \\\\\n",
    "\\vdots \\\\\n",
    "- \\Delta x^2 q \\\\\n",
    "- \\Delta x^2 q \\\\\n",
    "M_{x=L} \\\\\n",
    "\\end{matrix}\n",
    "\\right]\n",
    "$$\n",
    "\n",
    "and\n",
    "\n",
    "$$\n",
    "\\left[\n",
    "\\begin{matrix}\n",
    "1 & 0 & 0 & 0 & {} & {} & {} & {} \\\\\n",
    "1 & -2 & 1 & 0 & {} & {} & {} & {} \\\\\n",
    "0 & 1 & -2 & 1 & {} & {} & {} & {} \\\\\n",
    "\\vdots & \\vdots & \\vdots & \\vdots & \\vdots & \\vdots & \\vdots & \\vdots \\\\\n",
    "{} & {} & {} & {} & 1 & -2 & 1 & 0 \\\\\n",
    "{} & {} & {} & {} & 0 & 1 & -2 & 1 \\\\\n",
    "{} & {} & {} & {} & 0 & 0 & 0 & 1 \\\\\n",
    "\\end{matrix}\n",
    "\\right]\n",
    "\\left[\n",
    "\\begin{matrix}\n",
    "w_0 \\\\\n",
    "w_1 \\\\\n",
    "w_2 \\\\\n",
    "\\vdots \\\\\n",
    "w_{n-2} \\\\\n",
    "w_{n-1} \\\\\n",
    "w_n \\\\\n",
    "\\end{matrix}\n",
    "\\right]\n",
    "=\n",
    "\\left[\n",
    "\\begin{matrix}\n",
    "w_{x=0} \\\\\n",
    "-\\cfrac{\\Delta x^2}{EI} M_1\\\\\n",
    "-\\cfrac{\\Delta x^2}{EI} M_2 \\\\\n",
    "\\vdots \\\\\n",
    "-\\cfrac{\\Delta x^2}{EI} M_{n-2} \\\\\n",
    "-\\cfrac{\\Delta x^2}{EI} M_{n-1} \\\\\n",
    "w_{x=L} \\\\\n",
    "\\end{matrix}\n",
    "\\right]\n",
    "$$\n",
    "where $n$ is the number of grid points. Since the bending moments $M$ can be solved independendly from the beam deflection $w$, we can solve the first matrix-vector system first, and use the solution (i.c. $M$) to solve the second matrix-vector system, which depends on $M$.\n",
    "\n"
   ]
  },
  {
   "cell_type": "code",
   "execution_count": null,
   "metadata": {},
   "outputs": [],
   "source": [
    "import numpy as np\n",
    "import matplotlib.pyplot as plt\n",
    "\n",
    "# Beam properties\n",
    "EI = 1e6\n",
    "L = 10.0\n",
    "q = -10.0\n",
    "\n",
    "# Boundary conditions (Dirichlet)\n",
    "w0 = 0.0\n",
    "wL = 0.0\n",
    "M0 = 0.0\n",
    "ML = 0.0\n",
    "\n",
    "# Discretisation\n",
    "dx = 1.0\n",
    "n_x = round(L / dx)"
   ]
  },
  {
   "cell_type": "markdown",
   "metadata": {},
   "source": [
    "<div style=\"background-color:#AABAB2; color: black; width:90%; vertical-align: middle; padding:15px; margin: 10px; border-radius: 10px\">\n",
    "<p>\n",
    "\n",
    "$\\text{Task 2.2:}$\n",
    "    \n",
    "Complete the code below to first solve for the bending moments $M$, followed by the beam deflection $w$.\n",
    "\n",
    "</p>\n",
    "</div>"
   ]
  },
  {
   "cell_type": "markdown",
   "metadata": {},
   "source": [
    "### Solving bending moments M:"
   ]
  },
  {
   "cell_type": "code",
   "execution_count": null,
   "metadata": {
    "tags": [
     "assignment"
    ]
   },
   "outputs": [],
   "source": [
    "# Initialisation of (sub-)matrix and vector\n",
    "A11 = np.zeros([n_x + 1, n_x + 1])\n",
    "b1  = np.zeros(n_x + 1)\n",
    "x = [i * dx for i in range(n_x + 1)]\n",
    "\n",
    "# filling the matrix (A11) and vector (b1) components for the first system\n",
    "### YOUR CODE HERE ###\n",
    "### YOUR CODE HERE ###\n",
    "### YOUR CODE HERE ###\n",
    "A11[0, 0] = ### YOUR CODE HERE ###\n",
    "A11[n_x, n_x] = ### YOUR CODE HERE ###\n",
    "b1 =      ### YOUR CODE HERE ###\n",
    "b1[0] =   ### YOUR CODE HERE ###\n",
    "b1[n_x] = ### YOUR CODE HERE ###\n",
    "\n",
    "# visualise the matrix\n",
    "### YOUR CODE HERE ###\n",
    "\n",
    "# solve the system of equations\n",
    "M = np.linalg.solve(A11, b1)"
   ]
  },
  {
   "cell_type": "code",
   "execution_count": null,
   "metadata": {
    "tags": [
     "solution"
    ]
   },
   "outputs": [],
   "source": [
    "# Initialisation of (sub-)matrix and vector\n",
    "A11 = np.zeros([n_x + 1, n_x + 1])\n",
    "b1  = np.zeros(n_x + 1)\n",
    "x = [i * dx for i in range(n_x + 1)]\n",
    "\n",
    "# filling the matrix (A11) and vector (b1) components for the first system\n",
    "A11[range(1, n_x), range(n_x - 1)] = 1.0\n",
    "A11[range(1, n_x), range(1, n_x)] = -2.0\n",
    "A11[range(1, n_x), range(2, n_x + 1)] = 1.0\n",
    "A11[0, 0] = 1.0\n",
    "A11[n_x, n_x] = 1.0\n",
    "b1[range(1, n_x)] = -dx * dx * q\n",
    "b1[0] = M0\n",
    "b1[n_x] = ML\n",
    "\n",
    "# visualise the matrix\n",
    "plt.matshow(A11)\n",
    "\n",
    "# solve the system of equations\n",
    "M = np.linalg.solve(A11, b1)"
   ]
  },
  {
   "cell_type": "markdown",
   "metadata": {},
   "source": [
    "### Solving beam deflection w:"
   ]
  },
  {
   "cell_type": "code",
   "execution_count": null,
   "metadata": {
    "tags": [
     "assignment"
    ]
   },
   "outputs": [],
   "source": [
    "# Initialisation of (sub-)matrix and vector\n",
    "A22 = np.zeros([n_x + 1, n_x + 1])\n",
    "b2  = np.zeros(n_x + 1)                     # this code line may be omitted \n",
    "\n",
    "# filling the matrix (A22) and vector (b2) components for the second system\n",
    "### YOUR CODE LINES HERE ###\n",
    "\n",
    "# visualise the matrix\n",
    "### YOUR CODE HERE ###\n",
    "\n",
    "# solve the system of equations\n",
    "w = np.linalg.solve(A22, b2)"
   ]
  },
  {
   "cell_type": "code",
   "execution_count": null,
   "metadata": {
    "tags": [
     "solution"
    ]
   },
   "outputs": [],
   "source": [
    "# Initialisation of (sub-)matrix and vector\n",
    "A22 = np.zeros([n_x + 1, n_x + 1])\n",
    "b2  = np.zeros(n_x + 1)\n",
    "\n",
    "# filling the matrix (A22) and vector (b2) components for the second system\n",
    "A22[range(1, n_x), range(n_x - 1)] = 1.0\n",
    "A22[range(1, n_x), range(1, n_x)] = -2.0\n",
    "A22[range(1, n_x), range(2, n_x + 1)] = 1.0\n",
    "A22[0, 0] = 1.0\n",
    "A22[n_x, n_x] = 1.0\n",
    "b2[range(1, n_x)] = -dx * dx * M[range(1, n_x)] / EI     # note that M is based on the solution from the first system\n",
    "b2[0] = w0\n",
    "b2[n_x] = wL\n",
    "\n",
    "# visualise the matrix\n",
    "plt.matshow(A22)\n",
    "\n",
    "# solve the system of equations\n",
    "w = np.linalg.solve(A22, b2)"
   ]
  },
  {
   "cell_type": "markdown",
   "metadata": {},
   "source": [
    "### Plotting the results"
   ]
  },
  {
   "cell_type": "markdown",
   "metadata": {},
   "source": [
    "<div style=\"background-color:#AABAB2; color: black; width:90%; vertical-align: middle; padding:15px; margin: 10px; border-radius: 10px\">\n",
    "<p>\n",
    "\n",
    "$\\text{Task 2.3:}$\n",
    "    \n",
    "Run the code cell below to plot the solutions:\n",
    "\n",
    "</p>\n",
    "</div>"
   ]
  },
  {
   "cell_type": "code",
   "execution_count": null,
   "metadata": {},
   "outputs": [],
   "source": [
    "fig, ax = plt.subplots(2, 1, figsize=(15, 5))\n",
    "\n",
    "ax[0].plot(x, M)\n",
    "ax[0].set_ylabel(\"M [kNm]\")\n",
    "\n",
    "ax[1].plot(x, w)\n",
    "ax[1].set_xlabel(\"x [m]\")\n",
    "ax[1].set_ylabel(\"w [m]\")\n",
    "\n",
    "plt.show()"
   ]
  },
  {
   "cell_type": "markdown",
   "metadata": {},
   "source": [
    "<div style=\"background-color:#AABAB2; color: black; width:90%; vertical-align: middle; padding:15px; margin: 10px; border-radius: 10px\">\n",
    "<p>\n",
    "\n",
    "$\\text{Task 2.4:}$\n",
    "    \n",
    "Compare these solutions with the so-called Myosotis rules ('Forget-me-nots' or 'Vergeet-me-nietjes') for the maximum moment and maximum deflection of a simply supported bending beam:\n",
    "$$ M = \\frac{1}{8} q l^2$$\n",
    "and\n",
    "$$ w = \\frac{5}{384} \\frac{q l^4}{EI}$$\n",
    "</p>\n",
    "</div>"
   ]
  },
  {
   "cell_type": "markdown",
   "metadata": {
    "tags": [
     "solution"
    ]
   },
   "source": [
    "<div style=\"background-color:#FAE99E; color: black; vertical-align: middle; padding:15px; margin: 10px; border-radius: 10px; width: 90%\">\n",
    "<p>\n",
    "\n",
    "$\\text{Solution 2.4:}$\n",
    "    \n",
    "$$ M = \\frac{1}{8} q l^2 = 125 \\space kNm$$\n",
    "and\n",
    "$$ w = \\frac{5}{384} \\frac{q l^4}{EI} = 0.0013 \\space m$$\n",
    "</p>\n",
    "</div>"
   ]
  },
  {
   "cell_type": "markdown",
   "metadata": {},
   "source": [
    "### Solving both equations simultaneously\n",
    "\n",
    "Instead of solving the differential equations sequentially, we can also solve them simultaneously by setting up one 'big' (coupled) system of equations involving both bending moments and beam deflection as variables. In that, we can make use of the sub-matrices as calculated before. However, the right-hand side vector of the second part (i.c. the term $-\\frac{\\Delta x^2}{EI} M$) is now moved to the left-hand side and integrated in the lower left-hand block of the matrix as $\\frac{\\Delta x^2}{EI}$, while $M$ is in the vector with unknowns.\n",
    "\n",
    "$$ \\frac{M_{i-1} - 2 M_i + M{i+1}}{\\Delta x^2} = -q_i \\quad \\text{or} \\quad M_{i-1} - 2 M_i + M_{i+1} = - \\Delta x^2 q_i $$\n",
    "\n",
    "$$ \\quad  w_{i-1} - 2 w_i + w_{i+1} = -\\frac{\\Delta x^2}{EI} M_i \\quad \\text{or} \\quad \\frac{\\Delta x^2}{EI} M_i + w_{i-1} - 2 w_i + w_{i+1} = 0 $$\n",
    "\n"
   ]
  },
  {
   "cell_type": "markdown",
   "metadata": {},
   "source": [
    "<div style=\"background-color:#AABAB2; color: black; width:90%; vertical-align: middle; padding:15px; margin: 10px; border-radius: 10px\">\n",
    "<p>\n",
    "\n",
    "$\\text{Task 2.5:}$\n",
    "    \n",
    "Formulate the above equations from the central difference scheme (right-hand side of the 'or') as a single matrix-vector system. Include the grid boundaries and boundary conditions in the system.\n",
    "\n",
    "</p>\n",
    "</div>"
   ]
  },
  {
   "cell_type": "markdown",
   "metadata": {
    "tags": [
     "solution"
    ]
   },
   "source": [
    "<div style=\"background-color:#FAE99E; color: black; vertical-align: middle; padding:15px; margin: 10px; border-radius: 10px; width: 90%\">\n",
    "\n",
    "<p>\n",
    "\n",
    "$\\text{Solution 2.5:}$\n",
    "\n",
    "</p>\n",
    "\n",
    "$$\n",
    "\\left[\n",
    "\\begin{matrix}\n",
    "1 & 0 & 0 & {} & {} & {} & {} & {} & {} & {} & {} & {} \\\\\n",
    "1 & -2 & 1 & {} & {} & {} & {} & {} & {} & {} & {} & {} \\\\\n",
    "\\vdots & \\vdots & \\vdots & \\vdots & \\vdots & \\vdots & \\vdots & \\vdots & \\vdots & \\vdots & \\vdots & \\vdots \\\\\n",
    "{} & {} & {} & 1 & -2 & 1 & {} & {} & {} & {} & {} & {} \\\\\n",
    "{} & {} & {} & 0 & 0 & 1 & {} & {} & {} & {} & {} & {} \\\\\n",
    "0 & {} & {} & {} & {} & {} & 1 & 0 & 0 & {} & {} & {} \\\\\n",
    "{} & \\cfrac{\\Delta x^2}{EI} & {} & {} & {} & {} & 1 & -2 & 1 & {} & {} & {} \\\\\n",
    "\\vdots & \\vdots & \\vdots & \\vdots & \\vdots & \\vdots & \\vdots & \\vdots & \\vdots & \\vdots & \\vdots & \\vdots \\\\\n",
    "{} & {} & {} & {} & \\cfrac{\\Delta x^2}{EI} & {} & {} & {} & {} & 1 & -2 & 1 \\\\\n",
    "{} & {} & {} & {} & {} & 0 & {} & {} & {} & 0 & 0 & 1 \\\\\n",
    "\\end{matrix}\n",
    "\\right]\n",
    "\\left[\n",
    "\\begin{matrix}\n",
    "M_0 \\\\\n",
    "M_1 \\\\\n",
    "\\vdots \\\\\n",
    "M_{n-1} \\\\\n",
    "M_n \\\\\n",
    "w_0 \\\\\n",
    "w_1 \\\\\n",
    "\\vdots \\\\\n",
    "w_{n-1} \\\\\n",
    "w_n \\\\\n",
    "\\end{matrix}\n",
    "\\right]\n",
    "=\n",
    "\\left[\n",
    "\\begin{matrix}\n",
    "M_{x=0} \\\\\n",
    "- \\Delta x^2 q \\\\\n",
    "\\vdots \\\\\n",
    "- \\Delta x^2 q \\\\\n",
    "M_{x=L} \\\\\n",
    "w_{x=0} \\\\\n",
    "0 \\\\\n",
    "\\vdots \\\\\n",
    "0 \\\\\n",
    "w_{x=L} \\\\\n",
    "\\end{matrix}\n",
    "\\right]\n",
    "$$\n",
    "\n",
    "Note that the upper right-hand block remains zero, so the matrix is not symmetric! In fact, the two matrices above are also not fully symmetric."
   ]
  },
  {
   "cell_type": "markdown",
   "metadata": {},
   "source": [
    "<div style=\"background-color:#AABAB2; color: black; width:90%; vertical-align: middle; padding:15px; margin: 10px; border-radius: 10px\">\n",
    "<p>\n",
    "\n",
    "$\\text{Task 2.6:}$\n",
    "    \n",
    "Complete the code below to create the matrix-vector system.\n",
    "\n",
    "</p>\n",
    "</div>"
   ]
  },
  {
   "cell_type": "code",
   "execution_count": null,
   "metadata": {
    "tags": [
     "assignment"
    ]
   },
   "outputs": [],
   "source": [
    "A11 = np.zeros([n_x+1, n_x+1])\n",
    "A12 = np.zeros([n_x+1, n_x+1])\n",
    "A21 = np.zeros([n_x+1, n_x+1])\n",
    "b1  = np.zeros(n_x+1)\n",
    "b2  = np.zeros(n_x+1)\n",
    "\n",
    "# filling the matrix (A) and vector components (b) for the entire system\n",
    "# the complete matrix A is supposed to be subdivided in blocks (A11, A12, A21, A22), which will be built together at the end\n",
    "# similarly, the complete vector b is subdivided in b1 and b2\n",
    "### YOUR CODE LINES HERE ###\n",
    "\n",
    "# assembling the full matrix (A) and vector (b) \n",
    "A = ### YOUR CODE HERE ###\n",
    "b = ### YOUR CODE HERE ###"
   ]
  },
  {
   "cell_type": "code",
   "execution_count": null,
   "metadata": {
    "tags": [
     "solution"
    ]
   },
   "outputs": [],
   "source": [
    "A11 = np.zeros([n_x + 1, n_x + 1])\n",
    "A12 = np.zeros([n_x + 1, n_x + 1])\n",
    "A21 = np.zeros([n_x + 1, n_x + 1])\n",
    "b1 = np.zeros(n_x + 1)\n",
    "b2 = np.zeros(n_x + 1)\n",
    "\n",
    "# filling the matrix (A) and vector components (b) for the entire system\n",
    "# the complete matrix A is supposed to be subdivided in blocks (A11, A12, A21, A22), which will be built together at the end\n",
    "# similarly, the complete vector b is subdivided in b1 and b2\n",
    "A11[range(1, n_x), range(n_x - 1)] = 1.0\n",
    "A11[range(1, n_x), range(1, n_x)] = -2.0\n",
    "A11[range(1, n_x), range(2, n_x + 1)] = 1.0\n",
    "A11[0, 0] = 1.0\n",
    "A11[n_x, n_x] = 1.0\n",
    "A21[range(1, n_x), range(1, n_x)] = dx * dx / EI     # note that matrix A12 remains zero\n",
    "A22 = A11\n",
    "b1[range(1, n_x)] = -dx * dx * q\n",
    "b1[0]   = M0\n",
    "b1[n_x] = ML\n",
    "b2[0]   = w0\n",
    "b2[n_x] = wL                        # note that the intermediate terms in b2 remain zero\n",
    "\n",
    "# assembling the full matrix (A) and vector (b) \n",
    "A = np.block([[A11, A12], [A21, A22]])\n",
    "b = np.concatenate([b1, b2])"
   ]
  },
  {
   "cell_type": "markdown",
   "metadata": {},
   "source": [
    "</p>\n",
    "\n",
    "We will now visualize the matrix using matshow.\n",
    "The sub-matrix $A21$ in $A$ contains terms that are much smaller than the terms around the diagonal in $A$;\n",
    "they will not be visible using a standard matshow command.\n",
    "To visualise all non-zero matrix terms, we create an image of the $A$-matrix and set positive terms to $1$ and negative terms to $-1$.\n"
   ]
  },
  {
   "cell_type": "markdown",
   "metadata": {},
   "source": [
    "<div style=\"background-color:#AABAB2; color: black; width:90%; vertical-align: middle; padding:15px; margin: 10px; border-radius: 10px\">\n",
    "<p>\n",
    "\n",
    "$\\text{Task 2.7:}$\n",
    "    \n",
    "Run the code cell below to visualise the structure of the matrix:\n",
    "\n",
    "</p>\n",
    "</div>"
   ]
  },
  {
   "cell_type": "code",
   "execution_count": null,
   "metadata": {},
   "outputs": [],
   "source": [
    "negatives_replaced = np.where(A < 0, -1, A)\n",
    "A_plot = np.where(A > 0, 1, negatives_replaced)\n",
    "plt.matshow(A_plot, cmap=\"bwr\")"
   ]
  },
  {
   "cell_type": "markdown",
   "metadata": {},
   "source": [
    "Solving the system of equations"
   ]
  },
  {
   "cell_type": "markdown",
   "metadata": {},
   "source": [
    "<div style=\"background-color:#AABAB2; color: black; width:90%; vertical-align: middle; padding:15px; margin: 10px; border-radius: 10px\">\n",
    "<p>\n",
    "\n",
    "$\\text{Task 2.8:}$\n",
    "    \n",
    "Complete the code below to solve the system of equations and extract the bending moments $M$ and beam deflection $w$ from the solution:\n",
    "\n",
    "</p>\n",
    "</div>"
   ]
  },
  {
   "cell_type": "code",
   "execution_count": null,
   "metadata": {
    "tags": [
     "assignment"
    ]
   },
   "outputs": [],
   "source": [
    "u = np.linalg.solve(A,b)\n",
    "\n",
    "M = ### YOUR CODE HERE ###                   # Extracting moments from the solution\n",
    "w = ### YOUR CODE HERE ###                   # Extracting deflections from the solution\n"
   ]
  },
  {
   "cell_type": "code",
   "execution_count": null,
   "metadata": {
    "tags": [
     "solution"
    ]
   },
   "outputs": [],
   "source": [
    "u = np.linalg.solve(A, b)\n",
    "\n",
    "M = u[: n_x + 1]  # Extracting moments from the solution\n",
    "w = u[n_x + 1 :]  # Extracting deflections from the solution"
   ]
  },
  {
   "cell_type": "markdown",
   "metadata": {},
   "source": [
    "Plotting the results"
   ]
  },
  {
   "cell_type": "markdown",
   "metadata": {},
   "source": [
    "<div style=\"background-color:#AABAB2; color: black; width:90%; vertical-align: middle; padding:15px; margin: 10px; border-radius: 10px\">\n",
    "<p>\n",
    "\n",
    "$\\text{Task 2.9:}$\n",
    "    \n",
    "Run the code cell below to plot the solutions:\n",
    "\n",
    "</p>\n",
    "</div>"
   ]
  },
  {
   "cell_type": "code",
   "execution_count": null,
   "metadata": {},
   "outputs": [],
   "source": [
    "fig, ax = plt.subplots(2, 1, figsize=(15, 5))\n",
    "\n",
    "ax[0].plot(x, M)\n",
    "ax[0].set_ylabel(\"M [kNm]\")\n",
    "\n",
    "ax[1].plot(x, w)\n",
    "ax[1].set_xlabel(\"x [m]\")\n",
    "ax[1].set_ylabel(\"w [m]\")\n",
    "\n",
    "plt.show()"
   ]
  },
  {
   "cell_type": "markdown",
   "metadata": {},
   "source": [
    "<div style=\"background-color:#AABAB2; color: black; width:90%; vertical-align: middle; padding:15px; margin: 10px; border-radius: 10px\">\n",
    "<p>\n",
    "\n",
    "$\\text{Task 2.10:}$\n",
    "    \n",
    "Which method do you prefer? Solving the equations sequentially or simultaneously?\n",
    "\n",
    "Does it make a difference for the accuracy of the results? Motivate your answer.\n",
    "</div>"
   ]
  },
  {
   "cell_type": "markdown",
   "metadata": {},
   "source": [
    "<div style=\"margin-top: 50px; padding-top: 20px; border-top: 1px solid #ccc;\">\n",
    "  <div style=\"display: flex; justify-content: flex-end; gap: 20px; align-items: center;\">\n",
    "    <a rel=\"MUDE\" href=\"http://mude.citg.tudelft.nl/\">\n",
    "      <img alt=\"MUDE\" style=\"width:100px; height:auto;\" src=\"https://gitlab.tudelft.nl/mude/public/-/raw/main/mude-logo/MUDE_Logo-small.png\" />\n",
    "    </a>\n",
    "    <a rel=\"TU Delft\" href=\"https://www.tudelft.nl/en/ceg\">\n",
    "      <img alt=\"TU Delft\" style=\"width:100px; height:auto;\" src=\"https://gitlab.tudelft.nl/mude/public/-/raw/main/tu-logo/TU_P1_full-color.png\" />\n",
    "    </a>\n",
    "    <a rel=\"license\" href=\"http://creativecommons.org/licenses/by/4.0/\">\n",
    "      <img alt=\"Creative Commons License\" style=\"width:88px; height:auto;\" src=\"https://i.creativecommons.org/l/by/4.0/88x31.png\" />\n",
    "    </a>\n",
    "  </div>\n",
    "  <div style=\"font-size: 75%; margin-top: 10px; text-align: right;\">\n",
    "    &copy; Copyright 2025 <a rel=\"MUDE\" href=\"http://mude.citg.tudelft.nl/\">MUDE</a> TU Delft. \n",
    "    This work is licensed under a <a rel=\"license\" href=\"http://creativecommons.org/licenses/by/4.0/\">CC BY 4.0 License</a>.\n",
    "  </div>\n",
    "</div>"
   ]
  }
 ],
 "metadata": {
  "kernelspec": {
   "display_name": "mude-base",
   "language": "python",
   "name": "python3"
  },
  "language_info": {
   "codemirror_mode": {
    "name": "ipython",
    "version": 3
   },
   "file_extension": ".py",
   "mimetype": "text/x-python",
   "name": "python",
   "nbconvert_exporter": "python",
   "pygments_lexer": "ipython3",
   "version": "3.12.11"
  }
 },
 "nbformat": 4,
 "nbformat_minor": 2
}
