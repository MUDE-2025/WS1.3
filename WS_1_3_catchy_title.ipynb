{
 "cells": [
  {
   "cell_type": "markdown",
   "metadata": {},
   "source": [
    "# Workshop 1.3 'Catchy title'\n",
    "\n",
    "*[CEGM1000 MUDE](http://mude.citg.tudelft.nl/)*\n",
    "\n",
    "*Written by: Ronald Brinkgeve, Anna Störiko*\n",
    "\n",
    "*Due: `Wednesday`, `September` `17`, `2025`.*"
   ]
  },
  {
   "cell_type": "markdown",
   "metadata": {},
   "source": [
    "## Part 1 Groundwater flow: Hydraulic conductivity - Falling head test"
   ]
  },
  {
   "cell_type": "markdown",
   "metadata": {},
   "source": [
    "### Solving ordinary differential equation - Initial value problem\n",
    "\n",
    "![falling head test](https://files.mude.citg.tudelft.nl/falling_head.png)\n",
    "\n",
    "Source: A. Verruijt, Grondmechanica / Soil Mechanics; https://geo.verruijt.net/software/GrondMechBoek.pdf\n",
    "\n",
    "The falling head test is a test to determine the hydraulic conductivity (permeability) of a soil sample.\n",
    "The soil sample is put in a box with water. A glass tube in the sample is used to measure the hydraulic head h.\n",
    "Before the test, water is pored in the tube while the valve is closed.\n",
    "At the start of the test, the valve is opened and the decrease of the hydraulic head is measured in time.\n",
    "\n",
    "The hydraulic head h in this test can be defined by the following ordinary differential equation:\n",
    "\n",
    "$$ \\frac{dh}{dt} = - \\frac{K A h}{a L} $$\n",
    "\n",
    "where\n",
    "*   h = hydraulic head (measured in the tube)\n",
    "*   K = permeability (hydraulic conductivity)\n",
    "*   A = cross section area of the sample\n",
    "*   a = cross section area of the tube\n",
    "*   L = sample height\n",
    "\n",
    "In this notebook we will solve the decreasing hydraulic head ('falling head') h in time"
   ]
  },
  {
   "cell_type": "markdown",
   "metadata": {},
   "source": [
    "### True solution:\n",
    "The true solution can be obtained by solving the differential equation analytically:\n",
    "$$h = h_0 \\space exp \\left( \\frac{-K A t}{a L} \\right) $$\n"
   ]
  },
  {
   "cell_type": "markdown",
   "metadata": {},
   "source": [
    "<div style=\"background-color:#AABAB2; color: black; width:90%; vertical-align: middle; padding:15px; margin: 10px; border-radius: 10px\">\n",
    "<p>\n",
    "\n",
    "$\\text{Task 1.1:}$\n",
    "    \n",
    "Run the cells below to define the parameters and visualise the analytical solution:\n",
    "\n",
    "</p>\n",
    "</div>"
   ]
  },
  {
   "cell_type": "code",
   "execution_count": null,
   "metadata": {},
   "outputs": [],
   "source": [
    "import math\n",
    "import numpy as np\n",
    "import matplotlib.pyplot as plt\n",
    "\n",
    "k = 1e-6    # permeability\n",
    "A = 0.1     # cross section area of the sample\n",
    "a = 0.001   # cross section area of the tube\n",
    "L = 0.1     # sample height\n",
    "h0= 1.0     # initial groundwater head\n",
    "t0= 0.0     # start time\n",
    "maxtime = 5000\n",
    "dt = 500\n",
    "maxsteps = round(maxtime / dt)"
   ]
  },
  {
   "cell_type": "code",
   "execution_count": null,
   "metadata": {},
   "outputs": [],
   "source": [
    "t = np.linspace(0, maxtime, 1001)\n",
    "h = [h0 * math.exp(-k * A * t[i] / (a * L) ) for i in range(1001)]\n"
   ]
  },
  {
   "cell_type": "code",
   "execution_count": null,
   "metadata": {},
   "outputs": [],
   "source": [
    "plt.plot(t, h, label='Analytical solution')\n",
    "plt.xlabel('time [s]')\n",
    "plt.ylabel('h [m]')\n",
    "plt.legend()\n",
    "plt.show()"
   ]
  },
  {
   "cell_type": "markdown",
   "metadata": {},
   "source": [
    "### Euler Forward:\n",
    "\n"
   ]
  },
  {
   "cell_type": "markdown",
   "metadata": {},
   "source": [
    "<div style=\"background-color:#AABAB2; color: black; width:90%; vertical-align: middle; padding:15px; margin: 10px; border-radius: 10px\">\n",
    "<p>\n",
    "\n",
    "$\\text{Task 1.2:}$\n",
    "    \n",
    "Formulate the Euler Forward solution and complete the code below:\n",
    "\n",
    "</p>\n",
    "</div>"
   ]
  },
  {
   "cell_type": "code",
   "execution_count": null,
   "metadata": {
    "tags": [
     "assignment"
    ]
   },
   "outputs": [],
   "source": [
    "t_ = np.linspace(0, maxtime, maxsteps+1)\n",
    "h_EF = []\n",
    "h_EF.append(h0)\n",
    "for i in range(maxsteps):\n",
    "    h_new = --- YOUR CODE HERE ---\n",
    "    h_EF.append(h_new)\n"
   ]
  },
  {
   "cell_type": "markdown",
   "metadata": {
    "tags": [
     "solution"
    ]
   },
   "source": [
    "<div style=\"background-color:#FAE99E; color: black; vertical-align: middle; padding:15px; margin: 10px; border-radius: 10px; width: 90%\">\n",
    "<p>\n",
    "$\\text{Solution 1.2:}$\n",
    "</p>\n",
    "Euler Forward formulation:\n",
    "$$ \\frac{h(t_{i+1}) - h(t_i)}{\\Delta t} = - \\frac{K A}{a L} h(t_i) $$\n",
    "\n",
    "$$ h(t_{i+1}) = h(t_i) - \\Delta t \\frac{K A}{a L} h(t_i) = \\left(1 - \\Delta t \\frac{K A}{a L}\\right) h(t_i) $$",
    "</div>\n",
    "\n"
   ]
  },
  {
   "cell_type": "code",
   "execution_count": null,
   "metadata": {
    "tags": [
     "solution"
    ]
   },
   "outputs": [],
   "source": [
    "h_EF, t_ = [], []\n",
    "h_EF.append(h0)\n",
    "t_.append(t0)\n",
    "for i in range(maxsteps):\n",
    "    h_new = (1. - dt * k * A / (a * L) ) * h_EF[-1]\n",
    "    h_EF.append(h_new)\n",
    "    t_.append(t_[-1] + dt)"
   ]
  },
  {
   "cell_type": "markdown",
   "metadata": {},
   "source": [
    "### Euler Backward:\n",
    "\n"
   ]
  },
  {
   "cell_type": "markdown",
   "metadata": {},
   "source": [
    "<div style=\"background-color:#AABAB2; color: black; width:90%; vertical-align: middle; padding:15px; margin: 10px; border-radius: 10px\">\n",
    "<p>\n",
    "\n",
    "$\\text{Task 1.3:}$\n",
    "    \n",
    "Formulate the Euler Backward solution and complete the code below:\n",
    "\n",
    "</p>\n",
    "</div>"
   ]
  },
  {
   "cell_type": "code",
   "execution_count": null,
   "metadata": {
    "tags": [
     "assignment"
    ]
   },
   "outputs": [],
   "source": [
    "h_EB = []\n",
    "h_EB.append(h0)\n",
    "for i in range(maxsteps):\n",
    "    h_new = --- YOUR CODE HERE ---\n",
    "    h_EB.append(h_new)"
   ]
  },
  {
   "cell_type": "markdown",
   "metadata": {
    "tags": [
     "solution"
    ]
   },
   "source": [
    "<div style=\"background-color:#FAE99E; color: black; vertical-align: middle; padding:15px; margin: 10px; border-radius: 10px; width: 90%\">\n",
    "<p>\n",
    "$\\text{Solution 1.3:}$\n",
    "</p>\n",
    "Euler Backward formulation:\n",
    "$$ \\frac{h(t_{i+1}) - h(t_i)}{\\Delta t} = - \\frac{K A}{a L} h(t_{i+1}) $$\n",
    "\n",
    "$$ h(t_{i+1}) \\left(1 + \\Delta t \\frac{K A}{a L} \\right) = h(t_i) $$\n",
    "\n",
    "$$ h(t_{i+1}) = h(t_i) / \\left(1 + \\Delta t \\frac{K A}{a L} \\right) $$",
    "</div>\n",
    "\n"
   ]
  },
  {
   "cell_type": "code",
   "execution_count": null,
   "metadata": {
    "tags": [
     "solution"
    ]
   },
   "outputs": [],
   "source": [
    "h_EB = []\n",
    "h_EB.append(h0)\n",
    "for i in range(maxsteps):\n",
    "    h_new = h_EB[-1] / (1. + dt * k * A / (a * L) )\n",
    "    h_EB.append(h_new)"
   ]
  },
  {
   "cell_type": "markdown",
   "metadata": {},
   "source": [
    "### Heun's method (= 2-stage Runge-Kutta):\n",
    "\n"
   ]
  },
  {
   "cell_type": "markdown",
   "metadata": {},
   "source": [
    "<div style=\"background-color:#AABAB2; color: black; width:90%; vertical-align: middle; padding:15px; margin: 10px; border-radius: 10px\">\n",
    "<p>\n",
    "\n",
    "$\\text{Task 1.4:}$\n",
    "    \n",
    "Formulate Heun's solution and complete the code below:\n",
    "\n",
    "</p>\n",
    "</div>"
   ]
  },
  {
   "cell_type": "code",
   "execution_count": null,
   "metadata": {
    "tags": [
     "assignment"
    ]
   },
   "outputs": [],
   "source": [
    "h_RK2 = []\n",
    "h_RK2.append(h0)\n",
    "for i in range(maxsteps):\n",
    "    fac = -k*A / (a*L)\n",
    "    k1 =  --- YOUR CODE HERE ---\n",
    "    k2 =  --- YOUR CODE HERE ---\n",
    "    h_new =  --- YOUR CODE HERE ---\n",
    "    h_RK2.append(h_new)"
   ]
  },
  {
   "cell_type": "markdown",
   "metadata": {
    "tags": [
     "solution"
    ]
   },
   "source": [
    "<div style=\"background-color:#FAE99E; color: black; vertical-align: middle; padding:15px; margin: 10px; border-radius: 10px; width: 90%\">\n",
    "<p>\n",
    "$\\text{Solution 1.4:}$\n",
    "</p>\n",
    "Heun's method:\n",
    "$$ h(t_{i+1}) = h(t_i) + \\frac{\\Delta t}{2} \\left(k_1 + k_2 \\right) $$\n",
    "\n",
    "$$ k_1 = \\frac{d h}{dt} |_{t=t_i} = - \\frac{K A}{a L} h(t_i) $$\n",
    "\n",
    "$$ k_2 = \\frac{d h}{dt} |_{t=t_{i+1*}} \\space with \\space h(t_{i+1*}) = h(t_i) - \\Delta t \\frac{K A}{a L} h(t_i) $$\n",
    "\n",
    "$$ Hence: \\space k_2 = - \\frac{k A}{a L} \\left(h(t_i) - \\Delta t \\frac{K A}{a L} h(t_i) \\right) = - \\frac{K A}{a L} \\left(h(t_i) + \\Delta t k_1 \\right) $$\n",
    "</div>\n",
    "\n"
   ]
  },
  {
   "cell_type": "code",
   "execution_count": null,
   "metadata": {
    "tags": [
     "solution"
    ]
   },
   "outputs": [],
   "source": [
    "h_RK2 = []\n",
    "h_RK2.append(h0)\n",
    "for i in range(maxsteps):\n",
    "    fac = -k*A / (a*L)\n",
    "    k1 = fac * h_RK2[-1]\n",
    "    k2 = fac * (h_RK2[-1] + dt * k1)\n",
    "    h_new = h_RK2[-1] + dt/2 * (k1 + k2)\n",
    "    h_RK2.append(h_new)"
   ]
  },
  {
   "cell_type": "markdown",
   "metadata": {},
   "source": [
    "### 4-stage Runge-Kutta:\n",
    "\n"
   ]
  },
  {
   "cell_type": "markdown",
   "metadata": {},
   "source": [
    "<div style=\"background-color:#AABAB2; color: black; width:90%; vertical-align: middle; padding:15px; margin: 10px; border-radius: 10px\">\n",
    "<p>\n",
    "\n",
    "$\\text{Task 1.5:}$\n",
    "    \n",
    "Formulate the 4-stage Runge-Kutta solution and complete the code below:\n",
    "\n",
    "</p>\n",
    "</div>"
   ]
  },
  {
   "cell_type": "code",
   "execution_count": null,
   "metadata": {
    "tags": [
     "assignment"
    ]
   },
   "outputs": [],
   "source": [
    "h_RK4 = []\n",
    "h_RK4.append(h0)\n",
    "for i in range(maxsteps):\n",
    "    fac = -k*A / (a*L)\n",
    "    k1 =  --- YOUR CODE HERE ---\n",
    "    k2 =  --- YOUR CODE HERE ---\n",
    "    k3 =  --- YOUR CODE HERE ---\n",
    "    k4 =  --- YOUR CODE HERE ---\n",
    "    h_new =  --- YOUR CODE HERE ---\n",
    "    h_RK4.append(h_new)"
   ]
  },
  {
   "cell_type": "markdown",
   "metadata": {
    "tags": [
     "solution"
    ]
   },
   "source": [
    "<div style=\"background-color:#FAE99E; color: black; vertical-align: middle; padding:15px; margin: 10px; border-radius: 10px; width: 90%\">\n",
    "<p>\n",
    "$\\text{Solution 1.5:}$\n",
    "</p>\n",
    "Runge-Kutta's method:\n",
    "$$ h(t_{i+1}) = h(t_i) + \\frac{\\Delta t}{6} \\left(k_1 + 2 k_2 + 2 k_3 + k_4 \\right) $$\n",
    "\n",
    "$$ k_1 = \\frac{d h}{dt} |_{t=t_i} = - \\frac{k A}{a L} h(t_i) $$\n",
    "\n",
    "$$ k_2 = \\frac{d h}{dt} |_{t=t_{i+1/2*}} \\space with \\space h(t_{i+1/2*}) = h(t_i) - \\frac{\\Delta t}{2} \\frac{k A}{a L} h(t_i) = h(t_i) + \\frac{\\Delta t}{2} k_1 $$\n",
    "\n",
    "$$ k_3 = \\frac{d h}{dt} |_{t=t_{i+1/2}} \\space with \\space h(t_{i+1/2}) = h(t_i) - \\frac{\\Delta t}{2} \\frac{k A}{a L} h(t_{i+1/2*}) = h(t_i) + \\frac{\\Delta t}{2} k_2 $$\n",
    "\n",
    "$$ k_4 = \\frac{d h}{dt} |_{t=t_{i+1*}} \\space with \\space h(t_{i+1*}) = h(t_i) - \\Delta t \\frac{k A}{a L} h(t_{i+1/2}) = h(t_i) + \\Delta t k_3$$",
    "</div>\n",
    "\n"
   ]
  },
  {
   "cell_type": "code",
   "execution_count": null,
   "metadata": {
    "tags": [
     "solution"
    ]
   },
   "outputs": [],
   "source": [
    "h_RK4 = []\n",
    "h_RK4.append(h0)\n",
    "for i in range(maxsteps):\n",
    "    fac = -k*A / (a*L)\n",
    "    k1 = fac * h_RK4[-1]\n",
    "    k2 = fac * (h_RK4[-1] + dt/2 * k1)\n",
    "    k3 = fac * (h_RK4[-1] + dt/2 * k2)\n",
    "    k4 = fac * (h_RK4[-1] + dt * k3) \n",
    "    h_new = h_RK4[-1] + dt/6 * (k1 + 2*k2 + 2*k3 + k4)\n",
    "    h_RK4.append(h_new)"
   ]
  },
  {
   "cell_type": "markdown",
   "metadata": {},
   "source": [
    "### Plot results"
   ]
  },
  {
   "cell_type": "markdown",
   "metadata": {},
   "source": [
    "<div style=\"background-color:#AABAB2; color: black; width:90%; vertical-align: middle; padding:15px; margin: 10px; border-radius: 10px\">\n",
    "<p>\n",
    "\n",
    "$\\text{Task 1.6:}$\n",
    "    \n",
    "Run the code cell below to show the different solutions:\n",
    "\n",
    "</p>\n",
    "</div>"
   ]
  },
  {
   "cell_type": "code",
   "execution_count": null,
   "metadata": {},
   "outputs": [],
   "source": [
    "plt.plot(t, h, label='True solution')\n",
    "plt.plot(t_,h_EF,label='Explicit Euler (dt='+str(dt)+')', marker='.')\n",
    "plt.plot(t_,h_EB,label='Implicit Euler (dt='+str(dt)+')', marker='.')\n",
    "plt.plot(t_,h_RK2,label='Heun\\'s method(dt='+str(dt)+')', marker='.')\n",
    "plt.plot(t_,h_RK4,label='Runge-Kutta   (dt='+str(dt)+')', marker='.')\n",
    "plt.xlabel('time [s]')\n",
    "plt.ylabel('h [m]')\n",
    "plt.legend()\n",
    "plt.show()"
   ]
  },
  {
   "cell_type": "markdown",
   "metadata": {},
   "source": [
    "<div style=\"background-color:#AABAB2; color: black; width:90%; vertical-align: middle; padding:15px; margin: 10px; border-radius: 10px\">\n",
    "<p>\n",
    "\n",
    "$\\text{Task 1.7:}$\n",
    "    \n",
    "Comment on the various results in view of the true solution and their numerical stability.\n",
    "\n",
    "</p>\n",
    "</div>"
   ]
  },
  {
   "cell_type": "markdown",
   "metadata": {
    "tags": [
     "solution"
    ]
   },
   "source": [
    "<div style=\"background-color:#FAE99E; color: black; vertical-align: middle; padding:15px; margin: 10px; border-radius: 10px; width: 90%\">\n",
    "<p>\n",
    "$\\text{Solution 1.7:}$\n",
    "</p>\n",
    "Euler Forward solution is unstable for dt > 1000 and predicts h to decrease too quickly\n",
    "</p>\n",
    "Euler Backward solution is unconditionally stable but predicts h to decrease too slowly\n",
    "</p>\n",
    "Heun's solution is stable and more accurate than the Euler solutions; still, h decreases a bit too slowly\n",
    "</p>\n",
    "Runge-Kutta's solution is stable and much more accurate than the other solutions\n",
    "\n"
   ]
  },

  {
   "cell_type": "markdown",
   "metadata": {},
   "source": [
    "## Part 2: Boundary value problem: Euler-Bernoulli bending beam"
   ]
  },
  {
   "cell_type": "markdown",
   "metadata": {},
   "source": [
    "![bending beam](https://files.mude.citg.tudelft.nl/bending_beam.png)\n",
    "\n",
    "The bending deflection of a beam, subject to a distributed load q, and the corresponding bending moment distribution, is a boundary value problem that can be described by two second-order differential equations according to Euler-Bernoulli:"
   ]
  },
  {
   "cell_type": "markdown",
   "metadata": {},
   "source": [
    "Bending moments M:\n",
    "\n",
    "$$ \\frac{d^2 M}{dx^2} = -q $$\n",
    "\n",
    "Beam deflection w:\n",
    "\n",
    "$$ M = - EI \\frac{d^2 w}{dx^2} $$\n",
    "\n",
    "where\n",
    "*   M = bending moment\n",
    "*   w = beam deflection\n",
    "*   q = distributed load\n",
    "*   EI = flexural rigidity (bending stiffness)\n",
    "*   x = longitudinal direction\n",
    "\n",
    "The boundary conditions for this problem depends on how the beam is supported at the left and right ends. In this case, we consider a simply supported beam where the displacement and the bending moment are zero at both ends of the beam."
   ]
  },
  {
   "cell_type": "markdown",
   "metadata": {},
   "source": [
    "### Numerical solution\n",
    "\n",
    "First, we will implement a numerical solution solving the two differential equations sequentially (one after the other), by using a central difference scheme for both equations.\n",
    "\n",
    "### Central Difference scheme for both equations\n",
    "\n",
    "$$ \\frac{M_{i-1} - 2 M_i + M{i+1}}{\\Delta x^2} = -q_i \\space or \\space M_{i-1} - 2 M_i + M_{i+1} = - \\Delta x^2 q_i $$\n",
    "\n",
    "$$ - \\frac{M_i}{EI} = \\frac{w_{i-1} - 2 w_i + w_{i+1}}{\\Delta x^2} \\space or \\space w_{i-1} - 2 w_i + w_{i+1} = -\\frac{\\Delta x^2}{EI} M_i \\space or \\space \\frac{\\Delta x^2}{EI} M_i + w_{i-1} - 2 w_i + w_{i+1} = 0 $$\n",
    "\n",
    "![simply supported beam](https://files.mude.citg.tudelft.nl/simply_supported.png)\n",
    "\n",
    "\n",
    "The above equations from the central difference scheme can be assembled in a matrix-vector system.\n",
    "\n",
    "$$\n",
    "\\left[\n",
    "\\begin{matrix}\n",
    "1 & 0 & 0 & 0 & {} & {} & {} & {} \\\\\n",
    "1 & -2 & 1 & 0 & {} & {} & {} & {} \\\\\n",
    "0 & 1 & -2 & 1 & {} & {} & {} & {} \\\\\n",
    "\\vdots & \\vdots & \\vdots & \\vdots & \\vdots & \\vdots & \\vdots & \\vdots \\\\\n",
    "{} & {} & {} & {} & 1 & -2 & 1 & 0 \\\\\n",
    "{} & {} & {} & {} & 0 & 1 & -2 & 1 \\\\\n",
    "{} & {} & {} & {} & 0 & 0 & 0 & 1 \\\\\n",
    "\\end{matrix}\n",
    "\\right]\n",
    "\\left[\n",
    "\\begin{matrix}\n",
    "M_0 \\\\\n",
    "M_1 \\\\\n",
    "M_2 \\\\\n",
    "\\vdots \\\\\n",
    "M_{n-2} \\\\\n",
    "M_{n-1} \\\\\n",
    "M_n \\\\\n",
    "\\end{matrix}\n",
    "\\right]\n",
    "=\n",
    "\\left[\n",
    "\\begin{matrix}\n",
    "M_{x=0} \\\\\n",
    "- x^2 q \\\\\n",
    "- x^2 q \\\\\n",
    "\\vdots \\\\\n",
    "- x^2 q \\\\\n",
    "- x^2 q \\\\\n",
    "M_{x=L} \\\\\n",
    "\\end{matrix}\n",
    "\\right]\n",
    "$$\n",
    "\n",
    "and\n",
    "\n",
    "$$\n",
    "\\left[\n",
    "\\begin{matrix}\n",
    "1 & 0 & 0 & 0 & {} & {} & {} & {} \\\\\n",
    "1 & -2 & 1 & 0 & {} & {} & {} & {} \\\\\n",
    "0 & 1 & -2 & 1 & {} & {} & {} & {} \\\\\n",
    "\\vdots & \\vdots & \\vdots & \\vdots & \\vdots & \\vdots & \\vdots & \\vdots \\\\\n",
    "{} & {} & {} & {} & 1 & -2 & 1 & 0 \\\\\n",
    "{} & {} & {} & {} & 0 & 1 & -2 & 1 \\\\\n",
    "{} & {} & {} & {} & 0 & 0 & 0 & 1 \\\\\n",
    "\\end{matrix}\n",
    "\\right]\n",
    "\\left[\n",
    "\\begin{matrix}\n",
    "w_0 \\\\\n",
    "w_1 \\\\\n",
    "w_2 \\\\\n",
    "\\vdots \\\\\n",
    "w_{n-2} \\\\\n",
    "w_{n-1} \\\\\n",
    "w_n \\\\\n",
    "\\end{matrix}\n",
    "\\right]\n",
    "=\n",
    "\\left[\n",
    "\\begin{matrix}\n",
    "w_{x=0} \\\\\n",
    "-\\cfrac{\\Delta x^2 M_1}{EI} \\\\\n",
    "-\\cfrac{\\Delta x^2 M_2}{EI} \\\\\n",
    "\\vdots \\\\\n",
    "-\\cfrac{\\Delta x^2 M_{n-2}}{EI} \\\\\n",
    "-\\cfrac{\\Delta x^2 M_{n-1}}{EI} \\\\\n",
    "w_{x=L} \\\\\n",
    "\\end{matrix}\n",
    "\\right]\n",
    "$$\n"
   ]
  },
  {
   "cell_type": "markdown",
   "metadata": {},
   "source": [
    "where $n$ is the number of grid points. Since the bending moments $M$ can be solved independendly from the beam deflection $w$, we can solve the first matrix-vector system first, and use the solution (i.c. $M$) to solve the second matrix-vector system, which depends on $M$."
   ]
  },
  {
   "cell_type": "code",
   "execution_count": null,
   "metadata": {},
   "outputs": [],
   "source": [
    "import numpy as np\n",
    "import matplotlib.pyplot as plt\n",
    "\n",
    "# Beam properties\n",
    "EI = 1e6\n",
    "L  = 10.\n",
    "q  = -10.\n",
    "\n",
    "# Boundary conditions (Dirichlet)\n",
    "w0 = 0.0\n",
    "wL = 0.0\n",
    "M0 = 0.0\n",
    "ML = 0.0\n",
    "\n",
    "# Discretisation\n",
    "dx = 0.1\n",
    "maxgrid = round(L / dx)"
   ]
  },
  {
   "cell_type": "markdown",
   "metadata": {},
   "source": [
    "Solving bending moments M:"
   ]
  },
  {
   "cell_type": "code",
   "execution_count": null,
   "metadata": {},
   "outputs": [],
   "source": [
    "# Initialisation of (sub-)matrix and vector\n",
    "A11 = np.zeros([maxgrid+1, maxgrid+1])\n",
    "b1  = np.zeros(maxgrid+1)\n",
    "x   = np.zeros(maxgrid+1)\n",
    "\n",
    "# filling the matrix and vector components for the first system\n",
    "for i in range(maxgrid+1):\n",
    "    if i == 0:\n",
    "        A11[i,i] = 1.\n",
    "        b1[i]    = M0\n",
    "    elif i == maxgrid:\n",
    "        A11[i,i] = 1.\n",
    "        b1[i]    = ML\n",
    "    else:\n",
    "        A11[i,i-1] = 1.\n",
    "        A11[i,i]   = -2.\n",
    "        A11[i,i+1] = 1.\n",
    "        b1[i]      = -dx*dx*q\n",
    "    x[i] = i*dx\n",
    "\n",
    "# solve the system of equations\n",
    "M = np.linalg.solve(A11,b1)"
   ]
  },
  {
   "cell_type": "markdown",
   "metadata": {},
   "source": [
    "Solving beam deflection w:"
   ]
  },
  {
   "cell_type": "code",
   "execution_count": null,
   "metadata": {},
   "outputs": [],
   "source": [
    "# Initialisation of (sub-)matrix and vector\n",
    "A22 = np.zeros([maxgrid+1, maxgrid+1])\n",
    "b2  = np.zeros(maxgrid+1)\n",
    "\n",
    "# filling the matrix and vector components for the second system\n",
    "for i in range(maxgrid+1):\n",
    "    if i == 0:\n",
    "        A22[i,i] = 1.\n",
    "        b2[i]    = w0\n",
    "    elif i == maxgrid:\n",
    "        A22[i,i] = 1.\n",
    "        b2[i]    = wL\n",
    "    else:\n",
    "        A22[i,i-1] = 1.\n",
    "        A22[i,i]   = -2.\n",
    "        A22[i,i+1] = 1.\n",
    "        b2[i]      = -dx*dx*M[i]/EI             # note that M is based the solution from the first system\n",
    "\n",
    "# solve the system of equations\n",
    "w = np.linalg.solve(A22,b2)"
   ]
  },
  {
   "cell_type": "markdown",
   "metadata": {},
   "source": [
    "Plotting the results"
   ]
  },
  {
   "cell_type": "code",
   "execution_count": null,
   "metadata": {},
   "outputs": [
    {
     "data": {
      "image/png": "[encoded data removed]",
      "text/plain": [
       "<Figure size 1500x500 with 2 Axes>"
      ]
     },
     "metadata": {},
     "output_type": "display_data"
    }
   ],
   "source": [
    "fig, ax = plt.subplots(2,1, figsize=(15,5))\n",
    "\n",
    "ax[0].plot(x,w)\n",
    "# ax[0].set_xlabel('x [m]')\n",
    "ax[0].set_ylabel('w [m]')\n",
    "\n",
    "ax[1].plot(x,M)\n",
    "ax[1].set_xlabel('x [m]')\n",
    "ax[1].set_ylabel('M [kNm]')\n",
    "\n",
    "plt.show()"
   ]
  },
  {
   "cell_type": "markdown",
   "metadata": {},
   "source": [
    "Compare these solutions with the so-called Myosotis rules ('Forget-me-nots' or 'Vergeet-me-nietjes') for the maximum moment and maximum deflection of a simply supported bending beam:\n",
    "$$ w = \\frac{5}{384} \\frac{q l^4}{EI}$$\n",
    "and\n",
    "$$ M = \\frac{1}{8} q l^2$$"
   ]
  },
  {
   "cell_type": "markdown",
   "metadata": {},
   "source": [
    "### Solving both equations simultaneously\n",
    "\n",
    "Instead of solving the differential equations sequentially, we can also solve them simultaneously by setting up one 'big' system of equations involving both bending moments and beam deflection. In that, we can make use of the sub-matrices as calculated before. However, the right-hand side vector of the second part (i.c. the term dx^2 M / EI) is now integrated in the lower left-hand block of the matrix as dx^2/EI, while M is in the vector with unknowns.\n",
    "$$\n",
    "\\left[\n",
    "\\begin{matrix}\n",
    "1 & 0 & 0 & {} & {} & {} & {} & {} & {} & {} & {} & {} \\\\\n",
    "1 & -2 & 1 & {} & {} & {} & {} & {} & {} & {} & {} & {} \\\\\n",
    "\\vdots & \\vdots & \\vdots & \\vdots & \\vdots & \\vdots & \\vdots & \\vdots & \\vdots & \\vdots & \\vdots & \\vdots \\\\\n",
    "{} & {} & {} & 1 & -2 & 1 & {} & {} & {} & {} & {} & {} \\\\\n",
    "{} & {} & {} & 0 & 0 & 1 & {} & {} & {} & {} & {} & {} \\\\\n",
    "0 & {} & {} & {} & {} & {} & 1 & 0 & 0 & {} & {} & {} \\\\\n",
    "{} & \\cfrac{\\Delta x^2}{EI} & {} & {} & {} & {} & 1 & -2 & 1 & {} & {} & {} \\\\\n",
    "\\vdots & \\vdots & \\vdots & \\vdots & \\vdots & \\vdots & \\vdots & \\vdots & \\vdots & \\vdots & \\vdots & \\vdots \\\\\n",
    "{} & {} & {} & {} & \\cfrac{\\Delta x^2}{EI} & {} & {} & {} & {} & 1 & -2 & 1 \\\\\n",
    "{} & {} & {} & {} & {} & 0 & {} & {} & {} & 0 & 0 & 1 \\\\\n",
    "\\end{matrix}\n",
    "\\right]\n",
    "\\left[\n",
    "\\begin{matrix}\n",
    "M_0 \\\\\n",
    "M_1 \\\\\n",
    "\\vdots \\\\\n",
    "M_{n-1} \\\\\n",
    "M_n \\\\\n",
    "w_0 \\\\\n",
    "w_1 \\\\\n",
    "\\vdots \\\\\n",
    "w_{n-1} \\\\\n",
    "w_n \\\\\n",
    "\\end{matrix}\n",
    "\\right]\n",
    "=\n",
    "\\left[\n",
    "\\begin{matrix}\n",
    "M_{x=0} \\\\\n",
    "- \\Delta x^2 q \\\\\n",
    "\\vdots \\\\\n",
    "- \\Delta x^2 q \\\\\n",
    "M_{x=L} \\\\\n",
    "w_{x=0} \\\\\n",
    "0 \\\\\n",
    "\\vdots \\\\\n",
    "0 \\\\\n",
    "w_{x=L} \\\\\n",
    "\\end{matrix}\n",
    "\\right]\n",
    "$$\n",
    "\n",
    "Note that the upper right-hand block remains zero, so the matrix is not symmetric! In fact, the two matrices above are also not fully symmetric."
   ]
  },
  {
   "cell_type": "code",
   "execution_count": null,
   "metadata": {},
   "outputs": [],
   "source": [
    "A11 = np.zeros([maxgrid+1, maxgrid+1])\n",
    "A12 = np.zeros([maxgrid+1, maxgrid+1])\n",
    "A21 = np.zeros([maxgrid+1, maxgrid+1])\n",
    "A22 = np.zeros([maxgrid+1, maxgrid+1])\n",
    "b1  = np.zeros(maxgrid+1)\n",
    "b2  = np.zeros(maxgrid+1)\n",
    "\n",
    "# filling the matrix and vector components for the entire system\n",
    "# the matrix is supposed to be subdivided in blocks, which will be built together at the end\n",
    "for i in range(maxgrid+1):\n",
    "    if i == 0:\n",
    "        A11[i,i] = 1.\n",
    "        A21[i,i] = 0.\n",
    "        A22[i,i] = 1.\n",
    "        b1[i]    = M0\n",
    "        b2[i]    = w0\n",
    "    elif i == maxgrid:\n",
    "        A11[i,i] = 1.\n",
    "        A21[i,i] = 0.\n",
    "        A22[i,i] = 1.\n",
    "        b1[i]    = ML\n",
    "        b2[i]    = wL\n",
    "    else:\n",
    "        A11[i,i-1] = 1.\n",
    "        A11[i,i]   = -2.\n",
    "        A11[i,i+1] = 1.\n",
    "        A21[i,i]   = dx*dx/EI\n",
    "        A22[i,i-1] = 1.\n",
    "        A22[i,i]   = -2.\n",
    "        A22[i,i+1] = 1.\n",
    "        b1[i]      = -dx*dx*q\n",
    "\n",
    "A = np.block([[A11,A12],\n",
    "              [A21,A22]])\n",
    "b = np.concatenate([b1, b2])"
   ]
  },
  {
   "cell_type": "markdown",
   "metadata": {},
   "source": [
    "Solving the system of equations"
   ]
  },
  {
   "cell_type": "code",
   "execution_count": null,
   "metadata": {},
   "outputs": [],
   "source": [
    "u = np.linalg.solve(A,b)\n",
    "\n",
    "M = u[:maxgrid+1]                   # Extracting moments from the solution\n",
    "w = u[maxgrid+1:]                   # Extracting deflections from the solution"
   ]
  },
  {
   "cell_type": "markdown",
   "metadata": {},
   "source": [
    "Plotting the results"
   ]
  },
  {
   "cell_type": "code",
   "execution_count": null,
   "metadata": {},
   "outputs": [
    {
     "data": {
      "image/png": "[encoded data removed]",
      "text/plain": [
       "<Figure size 1500x500 with 2 Axes>"
      ]
     },
     "metadata": {},
     "output_type": "display_data"
    }
   ],
   "source": [
    "fig, ax = plt.subplots(2,1, figsize=(15,5))\n",
    "\n",
    "ax[0].plot(x,w)\n",
    "# ax[0].set_xlabel('x [m]')\n",
    "ax[0].set_ylabel('w [m]')\n",
    "\n",
    "ax[1].plot(x,M)\n",
    "ax[1].set_xlabel('x [m]')\n",
    "ax[1].set_ylabel('M [kNm]')\n",
    "\n",
    "plt.show()"
   ]
  },
  {
   "cell_type": "markdown",
   "metadata": {},
   "source": [
    "Which method do you prefer? Solving the equations sequentially or simultaneously?\n",
    "\n",
    "Does it make a difference for the accuracy of the results?"
   ]
  },
  {
   "cell_type": "markdown",
   "metadata": {},
   "source": [
    "# TEMPLATE BELOW"
   ]
  },
  {
   "cell_type": "markdown",
   "metadata": {},
   "source": [
    "<div style=\"background-color:#AABAB2; color: black; width:90%; vertical-align: middle; padding:15px; margin: 10px; border-radius: 10px\">\n",
    "<p>\n",
    "\n",
    "$\\text{Task x.x:}$\n",
    "    \n",
    "Run the cell below to load two dictionaries (objects) into the Python variable space, <code>m1</code> and <code>m2</code>. Some random math: $E = m \\cdot c^2$. And\n",
    "\n",
    "$$F = m \\cdot a$$\n",
    "\n",
    "You can run the code to check the key:value pairs.\n",
    "    \n",
    "</p>\n",
    "</div>"
   ]
  },
  {
   "cell_type": "code",
   "execution_count": null,
   "metadata": {},
   "outputs": [],
   "source": [
    "# Provided code which is not to be edited by students\n",
    "import numpy as np"
   ]
  },
  {
   "cell_type": "code",
   "execution_count": null,
   "metadata": {
    "tags": [
     "assignment"
    ]
   },
   "outputs": [],
   "source": [
    "# The code given to students can be indicated with:\n",
    "# with a cell tag `assignment`.\n",
    "# These cells will be removed from the solution notebook.\n",
    "# The assignment notebook will be generated after a push to main and\n",
    "# will be stored on the branch `assignment`.\n",
    "# Places where student should write their code are marked with `### YOUR CODE HERE ###` for filling in a single line\n",
    "# or with `### YOUR CODE LINES HERE` for filling in multiple lines\n",
    "\n",
    "import numpy as np\n",
    "\n",
    "a = [### YOUR CODE HERE ###]\n",
    "    \n",
    "### YOUR CODE LINES HERE\n",
    "\n",
    "print('First 20 fibonacci numbers:', ### YOUR CODE HERE ###)"
   ]
  },
  {
   "cell_type": "markdown",
   "metadata": {},
   "source": [
    "<div style=\"background-color:#FAE99E; color: black; vertical-align: middle; padding:15px; margin: 10px; border-radius: 10px; width: 90%\">\n",
    "\n",
    "$\\text{Solution x.x:}$\n",
    "\n",
    "Having trouble understanding how the Gauss-Newton scheme works? Do you want to visualize how the parameters and model change on each iteration? Try uncommenting the cell below to create an interactive plot!\n",
    "\n",
    "It is set up to visualize the model on each iteration. You can gain insight into the way convergence occurs by changing the value of <code>initial_guess_alternative</code> and rerunning the cell.\n",
    "</p></div>\n",
    "\n",
    "Cells containing a solution block (with color ` #FAE99E`) will be removed in the assignment notebook."
   ]
  },
  {
   "cell_type": "code",
   "execution_count": null,
   "metadata": {
    "tags": [
     "solution"
    ]
   },
   "outputs": [],
   "source": [
    "# Solution code (in a separate cell) is indicated with\n",
    "# a cell tag 'solution'.\n",
    "# These cells will be removed from the assignment notebook.\n",
    "# The assignment notebook will be generated after a push to main and\n",
    "# will be stored on the branch `solution`.\n",
    "\n",
    "a = [0,2]\n",
    "\n",
    "for i in range(2, 20):\n",
    "    a.append(a[i-1] + a[i-2])\n",
    "\n",
    "print('First 20 fibonacci numbers:', a)"
   ]
  },
  {
   "cell_type": "markdown",
   "metadata": {},
   "source": [
    "<div style=\"background-color:#FAE99E; color: black; vertical-align: middle; padding:15px; margin: 10px; border-radius: 10px; width: 90%\">\n",
    "<p>\n",
    "End of solution.\n",
    "</p>\n",
    "</div>\n",
    "\n",
    "Cells containing a solution block (with color ` #FAE99E`) will be removed in the assignment notebook."
   ]
  },
  {
   "cell_type": "markdown",
   "metadata": {},
   "source": [
    "<div style=\"background-color:#facb8e; color: black; vertical-align: middle; padding:15px; margin: 10px; border-radius: 10px; width: 90%\"> <p>\n",
    "\n",
    "$\\text{Tip:}$\n",
    "\n",
    "Don't use the CSS danger/warning blocks because they don't display when converting to HTML with pandoc (won't display right on course files on website).\n",
    "</p></div>"
   ]
  },
  {
   "cell_type": "markdown",
   "metadata": {},
   "source": [
    "## Part `2, ...`"
   ]
  },
  {
   "cell_type": "markdown",
   "metadata": {},
   "source": [
    "<div style=\"margin-top: 50px; padding-top: 20px; border-top: 1px solid #ccc;\">\n",
    "  <div style=\"display: flex; justify-content: flex-end; gap: 20px; align-items: center;\">\n",
    "    <a rel=\"MUDE\" href=\"http://mude.citg.tudelft.nl/\">\n",
    "      <img alt=\"MUDE\" style=\"width:100px; height:auto;\" src=\"https://gitlab.tudelft.nl/mude/public/-/raw/main/mude-logo/MUDE_Logo-small.png\" />\n",
    "    </a>\n",
    "    <a rel=\"TU Delft\" href=\"https://www.tudelft.nl/en/ceg\">\n",
    "      <img alt=\"TU Delft\" style=\"width:100px; height:auto;\" src=\"https://gitlab.tudelft.nl/mude/public/-/raw/main/tu-logo/TU_P1_full-color.png\" />\n",
    "    </a>\n",
    "    <a rel=\"license\" href=\"http://creativecommons.org/licenses/by/4.0/\">\n",
    "      <img alt=\"Creative Commons License\" style=\"width:88px; height:auto;\" src=\"https://i.creativecommons.org/l/by/4.0/88x31.png\" />\n",
    "    </a>\n",
    "  </div>\n",
    "  <div style=\"font-size: 75%; margin-top: 10px; text-align: right;\">\n",
    "    &copy; Copyright 2025 <a rel=\"MUDE\" href=\"http://mude.citg.tudelft.nl/\">MUDE</a> TU Delft. \n",
    "    This work is licensed under a <a rel=\"license\" href=\"http://creativecommons.org/licenses/by/4.0/\">CC BY 4.0 License</a>.\n",
    "  </div>\n",
    "</div>"
   ]
  }
 ],
 "metadata": {
  "kernelspec": {
   "display_name": "base",
   "language": "python",
   "name": "python3"
  },
  "language_info": {
   "codemirror_mode": {
    "name": "ipython",
    "version": 3
   },
   "file_extension": ".py",
   "mimetype": "text/x-python",
   "name": "python",
   "nbconvert_exporter": "python",
   "pygments_lexer": "ipython3",
   "version": "3.9.18"
  }
 },
 "nbformat": 4,
 "nbformat_minor": 2
}
