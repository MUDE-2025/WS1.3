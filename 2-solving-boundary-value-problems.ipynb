{
 "cells": [
  {
   "cell_type": "markdown",
   "metadata": {},
   "source": [
    "# Part 2: Boundary Value Problem: Euler-Bernoulli Bending Beam"
   ]
  },
  {
   "cell_type": "markdown",
   "metadata": {},
   "source": [
    "![bending beam](https://files.mude.citg.tudelft.nl/bending_beam.png)\n",
    "\n",
    "> Adapted from https://commons.wikimedia.org/wiki/File:Euler-Bernoulli_beam_theory-2.svg. https://commons.wikimedia.org/wiki/File:Euler-Bernoulli_beam_theory-2.svg (CC BY 3.0).\n",
    "\n",
    "The bending deflection of a beam, subject to a distributed load $q$, and the corresponding bending moment distribution, is a boundary value problem that can be described by two second-order differential equations according to Euler-Bernoulli:"
   ]
  },
  {
   "cell_type": "markdown",
   "metadata": {},
   "source": [
    "Bending moments $M$:\n",
    "\n",
    "$$ \\frac{d^2 M}{dx^2} = -q $$\n",
    "\n",
    "Beam deflection $w$:\n",
    "\n",
    "$$ M = - EI \\frac{d^2 w}{dx^2} $$\n",
    "\n",
    "where\n",
    "*   $M$ = bending moment\n",
    "*   $w$ = beam deflection\n",
    "*   $q$ = distributed load\n",
    "*   $EI$ = flexural rigidity (bending stiffness)\n",
    "*   $x$ = longitudinal direction\n",
    "\n",
    "The boundary conditions for this problem depend on how the beam is supported at the left and right ends. In this case, we consider a simply supported beam where the displacement and the bending moment are zero at both ends of the beam:\n",
    "\n",
    "*   $M_{x=0}$ = 0\n",
    "*   $w_{x=0}$ = 0\n",
    "*   $M_{x=L}$ = 0\n",
    "*   $w_{x=L}$ = 0         (these are all Dirichlet boundary conditions)\n",
    "\n",
    "![simply supported beam](https://files.mude.citg.tudelft.nl/simply_supported.png)\n"
   ]
  },
  {
   "cell_type": "markdown",
   "metadata": {},
   "source": [
    "## Numerical solution\n",
    "\n",
    "First, we will implement a numerical solution solving the two differential equations sequentially (one after the other), by using a central difference scheme for both equations.\n",
    "\n",
    "### Central Difference scheme for both equations\n",
    "\n",
    "The Central Difference scheme can be formulated in terms of bending moments $M_i$ and beam deflection $w_i$ where $i$ refers to the position in the numerical grid.\n",
    "\n",
    "$$ \\frac{M_{i-1} - 2 M_i + M{i+1}}{\\Delta x^2} = -q_i \\quad \\text{or} \\quad M_{i-1} - 2 M_i + M_{i+1} = - \\Delta x^2 q_i $$\n",
    "\n",
    "$$ - \\frac{M_i}{EI} = \\frac{w_{i-1} - 2 w_i + w_{i+1}}{\\Delta x^2} \\quad \\text{or} \\quad  w_{i-1} - 2 w_i + w_{i+1} = -\\frac{\\Delta x^2}{EI} M_i \\quad \\text{or} \\quad \\frac{\\Delta x^2}{EI} M_i + w_{i-1} - 2 w_i + w_{i+1} = 0 $$\n",
    "\n",
    "Starting from $i=1$ we get:\n",
    "$$ \\quad M_0 - 2 M_1 + M_2 = - \\Delta x^2 q_1 $$\n",
    "$$ \\quad M_1 - 2 M_2 + M_3 = - \\Delta x^2 q_2 $$\n",
    "$$ \\text{etc.}$$\n",
    "and \n",
    "$$ \\quad w_0 - 2 w_1 + w_2 = -\\frac{\\Delta x^2}{EI} M_1 $$\n",
    "$$ \\quad w_1 - 2 w_2 + w_3 = -\\frac{\\Delta x^2}{EI} M_2 $$\n",
    "$$ \\text{etc.}$$\n",
    "\n",
    "By considering all $i$-values in the grid, ranging from $1$ to $n-1$ (excluding the boundaries), we end up with two systems of $n-1$ equations with $n-1$ unknowns.\n",
    "Without the boundary conditions, these systems are singular (that is, we cannot solve them). We need to add the boundary conditions to make it solvable.\n",
    "This can simply be done by adding the following equations to the top and bottom of the system, ending up with two systems of $n+1$ equations with $n+1$ unknowns:\n",
    "\n",
    "$$ \\quad M_0 = M_{x=0}$$\n",
    "$$ \\quad M_n = M_{x=L}$$\n",
    "$$ \\quad w_0 = w_{x=0}$$\n",
    "$$ \\quad w_n = w_{x=L}$$\n",
    "\n",
    "Since the bending moments $M$ can be solved independently from the beam deflection $w$, we can solve the first system first, and use the solution (i.c. $M$) to solve the second system, which depends on $M$.\n",
    "\n",
    "We can write a system of equations as a matrix-vector system $A u = b$ by collecting all unknowns (here $M$ and $w$) in vector $u$ and putting the right-hand terms in vector $b$.\n",
    "\n"
   ]
  },
  {
   "cell_type": "markdown",
   "metadata": {},
   "source": [
    "<div style=\"background-color:#AABAB2; color: black; width:90%; vertical-align: middle; padding:15px; margin: 10px; border-radius: 10px\">\n",
    "<p>\n",
    "\n",
    "$\\text{Task 2.1:}$\n",
    "    \n",
    "Formulate the above equations from the central difference scheme as two separate matrix-vector systems. Include the grid boundaries and boundary conditions in the system.\n",
    "\n",
    "The bending moments $M$ should show up in the vector $u$ in one of the systems, but in the vector $b$ in the other system. Why is that the case?\n",
    "\n",
    "</p>\n",
    "</div>"
   ]
  },
  {
   "cell_type": "code",
   "execution_count": null,
   "metadata": {},
   "outputs": [],
   "source": [
    "import numpy as np\n",
    "import matplotlib.pyplot as plt\n",
    "\n",
    "# Beam properties\n",
    "EI = 1e6\n",
    "L = 10.0\n",
    "q = -10.0\n",
    "\n",
    "# Boundary conditions (Dirichlet)\n",
    "w0 = 0.0\n",
    "wL = 0.0\n",
    "M0 = 0.0\n",
    "ML = 0.0\n",
    "\n",
    "# Discretisation\n",
    "dx = 1.0\n",
    "n_x = round(L / dx)"
   ]
  },
  {
   "cell_type": "markdown",
   "metadata": {},
   "source": [
    "<div style=\"background-color:#AABAB2; color: black; width:90%; vertical-align: middle; padding:15px; margin: 10px; border-radius: 10px\">\n",
    "<p>\n",
    "\n",
    "$\\text{Task 2.2:}$\n",
    "    \n",
    "Complete the code below to first solve for the bending moments $M$, followed by the beam deflection $w$.\n",
    "You are also asked to visualise the structure of the matrix (see last week's programming assignment).\n",
    "\n",
    "</p>\n",
    "</div>"
   ]
  },
  {
   "cell_type": "markdown",
   "metadata": {},
   "source": [
    "## Solving bending moments M:"
   ]
  },
  {
   "cell_type": "code",
   "execution_count": null,
   "metadata": {
    "tags": [
     "assignment"
    ]
   },
   "outputs": [],
   "source": [
    "# Initialisation of (sub-)matrix and vector\n",
    "A11 = np.zeros([n_x + 1, n_x + 1])\n",
    "b1  = np.zeros(n_x + 1)\n",
    "x = [i * dx for i in range(n_x + 1)]\n",
    "\n",
    "# filling the matrix (A11) and vector (b1) components for the first system\n",
    "### YOUR CODE HERE ###\n",
    "### YOUR CODE HERE ###\n",
    "### YOUR CODE HERE ###\n",
    "A11[0, 0] = ### YOUR CODE HERE ###\n",
    "A11[n_x, n_x] = ### YOUR CODE HERE ###\n",
    "b1 =      ### YOUR CODE HERE ###\n",
    "b1[0] =   ### YOUR CODE HERE ###\n",
    "b1[n_x] = ### YOUR CODE HERE ###\n",
    "\n",
    "# visualise the matrix\n",
    "### YOUR CODE HERE ###\n",
    "\n",
    "# solve the system of equations\n",
    "M = np.linalg.solve(A11, b1)"
   ]
  },
  {
   "cell_type": "markdown",
   "metadata": {},
   "source": [
    "## Solving beam deflection w"
   ]
  },
  {
   "cell_type": "code",
   "execution_count": null,
   "metadata": {
    "tags": [
     "assignment"
    ]
   },
   "outputs": [],
   "source": [
    "# Initialisation of (sub-)matrix and vector\n",
    "A22 = np.zeros([n_x + 1, n_x + 1])\n",
    "b2  = np.zeros(n_x + 1)                     # this code line may be omitted \n",
    "\n",
    "# filling the matrix (A22) and vector (b2) components for the second system\n",
    "### YOUR CODE LINES HERE ###\n",
    "\n",
    "# visualise the matrix\n",
    "### YOUR CODE HERE ###\n",
    "\n",
    "# solve the system of equations\n",
    "w = np.linalg.solve(A22, b2)"
   ]
  },
  {
   "cell_type": "markdown",
   "metadata": {},
   "source": [
    "## Plotting the results"
   ]
  },
  {
   "cell_type": "markdown",
   "metadata": {},
   "source": [
    "<div style=\"background-color:#AABAB2; color: black; width:90%; vertical-align: middle; padding:15px; margin: 10px; border-radius: 10px\">\n",
    "<p>\n",
    "\n",
    "$\\text{Task 2.3:}$\n",
    "    \n",
    "Run the code cell below to plot the solutions:\n",
    "\n",
    "</p>\n",
    "</div>"
   ]
  },
  {
   "cell_type": "code",
   "execution_count": null,
   "metadata": {},
   "outputs": [],
   "source": [
    "fig, ax = plt.subplots(2, 1, figsize=(15, 5))\n",
    "\n",
    "ax[0].plot(x, M)\n",
    "ax[0].set_ylabel(\"M [kNm]\")\n",
    "\n",
    "ax[1].plot(x, w)\n",
    "ax[1].set_xlabel(\"x [m]\")\n",
    "ax[1].set_ylabel(\"w [m]\")\n",
    "\n",
    "plt.show()"
   ]
  },
  {
   "cell_type": "markdown",
   "metadata": {},
   "source": [
    "<div style=\"background-color:#AABAB2; color: black; width:90%; vertical-align: middle; padding:15px; margin: 10px; border-radius: 10px\">\n",
    "<p>\n",
    "\n",
    "$\\text{Task 2.4:}$\n",
    "    \n",
    "Compare these solutions with the so-called Myosotis rules ('Forget-me-nots' or 'Vergeet-me-nietjes') for the maximum moment and maximum deflection of a simply supported bending beam:\n",
    "$$ M = \\frac{1}{8} q l^2$$\n",
    "and\n",
    "$$ w = \\frac{5}{384} \\frac{q l^4}{EI}$$\n",
    "</p>\n",
    "</div>"
   ]
  },
  {
   "cell_type": "markdown",
   "metadata": {},
   "source": [
    "## Solving both equations simultaneously\n",
    "\n",
    "Instead of solving the differential equations sequentially, we can also solve them simultaneously by setting up one 'big' (coupled) system of equations involving both bending moments and beam deflection as variables. In that, we can make use of the sub-matrices as calculated before (A11 and A22 in the code). However, the right-hand side vector of the second part (i.c. the term $-\\frac{\\Delta x^2}{EI} M$) is now moved to the left-hand side and integrated in the lower left-hand block of the matrix as $\\frac{\\Delta x^2}{EI}$ (sub-matrix A21 in the code), while $M$ is in the vector with unknowns.\n",
    "\n",
    "$$ \\frac{M_{i-1} - 2 M_i + M{i+1}}{\\Delta x^2} = -q_i \\quad \\text{or} \\quad M_{i-1} - 2 M_i + M_{i+1} = - \\Delta x^2 q_i $$\n",
    "\n",
    "$$ \\quad  w_{i-1} - 2 w_i + w_{i+1} = -\\frac{\\Delta x^2}{EI} M_i \\quad \\text{or} \\quad \\frac{\\Delta x^2}{EI} M_i + w_{i-1} - 2 w_i + w_{i+1} = 0 $$\n",
    "\n"
   ]
  },
  {
   "cell_type": "markdown",
   "metadata": {},
   "source": [
    "<div style=\"background-color:#AABAB2; color: black; width:90%; vertical-align: middle; padding:15px; margin: 10px; border-radius: 10px\">\n",
    "<p>\n",
    "\n",
    "$\\text{Task 2.5:}$\n",
    "    \n",
    "Formulate the above equations from the central difference scheme (right-hand side of the 'or') as a single matrix-vector system. Include the grid boundaries and boundary conditions in the system.\n",
    "\n",
    "</p>\n",
    "</div>"
   ]
  },
  {
   "cell_type": "markdown",
   "metadata": {},
   "source": [
    "<div style=\"background-color:#AABAB2; color: black; width:90%; vertical-align: middle; padding:15px; margin: 10px; border-radius: 10px\">\n",
    "<p>\n",
    "\n",
    "$\\text{Task 2.6:}$\n",
    "    \n",
    "Complete the code below to create the matrix-vector system.\n",
    "\n",
    "</p>\n",
    "</div>"
   ]
  },
  {
   "cell_type": "code",
   "execution_count": null,
   "metadata": {
    "tags": [
     "assignment"
    ]
   },
   "outputs": [],
   "source": [
    "A11 = np.zeros([n_x+1, n_x+1])\n",
    "A12 = np.zeros([n_x+1, n_x+1])\n",
    "A21 = np.zeros([n_x+1, n_x+1])\n",
    "b1  = np.zeros(n_x+1)\n",
    "b2  = np.zeros(n_x+1)\n",
    "\n",
    "# filling the matrix (A) and vector components (b) for the entire system\n",
    "# the complete matrix A is supposed to be subdivided in blocks (A11, A12, A21, A22), which will be built together at the end\n",
    "# similarly, the complete vector b is subdivided in b1 and b2\n",
    "### YOUR CODE LINES HERE ###\n",
    "\n",
    "# assembling the full matrix (A) and vector (b) \n",
    "A = ### YOUR CODE HERE ###\n",
    "b = ### YOUR CODE HERE ###"
   ]
  },
  {
   "cell_type": "markdown",
   "metadata": {},
   "source": [
    "</p>\n",
    "\n",
    "We will now visualize the matrix using `matshow`.\n",
    "The sub-matrix $A21$ in $A$ contains terms that are much smaller than the terms around the diagonal in $A$;\n",
    "they will not be visible using a standard `matshow` command.\n",
    "To visualise all non-zero matrix terms, we create an image of the $A$-matrix and set positive terms to $1$ and negative terms to $-1$.\n"
   ]
  },
  {
   "cell_type": "markdown",
   "metadata": {},
   "source": [
    "<div style=\"background-color:#AABAB2; color: black; width:90%; vertical-align: middle; padding:15px; margin: 10px; border-radius: 10px\">\n",
    "<p>\n",
    "\n",
    "$\\text{Task 2.7:}$\n",
    "    \n",
    "Run the code cell below to visualise the structure of the matrix:\n",
    "\n",
    "</p>\n",
    "</div>"
   ]
  },
  {
   "cell_type": "code",
   "execution_count": null,
   "metadata": {},
   "outputs": [],
   "source": [
    "negatives_replaced = np.where(A < 0, -1, A)\n",
    "A_plot = np.where(A > 0, 1, negatives_replaced)\n",
    "plt.matshow(A_plot, cmap=\"bwr\")"
   ]
  },
  {
   "cell_type": "markdown",
   "metadata": {},
   "source": [
    "Solving the system of equations"
   ]
  },
  {
   "cell_type": "markdown",
   "metadata": {},
   "source": [
    "<div style=\"background-color:#AABAB2; color: black; width:90%; vertical-align: middle; padding:15px; margin: 10px; border-radius: 10px\">\n",
    "<p>\n",
    "\n",
    "$\\text{Task 2.8:}$\n",
    "    \n",
    "Complete the code below to solve the system of equations and extract the bending moments $M$ and beam deflection $w$ from the solution:\n",
    "\n",
    "</p>\n",
    "</div>"
   ]
  },
  {
   "cell_type": "code",
   "execution_count": null,
   "metadata": {
    "tags": [
     "assignment"
    ]
   },
   "outputs": [],
   "source": [
    "u = np.linalg.solve(A,b)\n",
    "\n",
    "M = ### YOUR CODE HERE ###                   # Extracting moments from the solution\n",
    "w = ### YOUR CODE HERE ###                   # Extracting deflections from the solution\n"
   ]
  },
  {
   "cell_type": "markdown",
   "metadata": {},
   "source": [
    "Plotting the results"
   ]
  },
  {
   "cell_type": "markdown",
   "metadata": {},
   "source": [
    "<div style=\"background-color:#AABAB2; color: black; width:90%; vertical-align: middle; padding:15px; margin: 10px; border-radius: 10px\">\n",
    "<p>\n",
    "\n",
    "$\\text{Task 2.9:}$\n",
    "    \n",
    "Run the code cell below to plot the solutions:\n",
    "\n",
    "</p>\n",
    "</div>"
   ]
  },
  {
   "cell_type": "code",
   "execution_count": null,
   "metadata": {},
   "outputs": [],
   "source": [
    "fig, ax = plt.subplots(2, 1, figsize=(15, 5))\n",
    "\n",
    "ax[0].plot(x, M)\n",
    "ax[0].set_ylabel(\"M [kNm]\")\n",
    "\n",
    "ax[1].plot(x, w)\n",
    "ax[1].set_xlabel(\"x [m]\")\n",
    "ax[1].set_ylabel(\"w [m]\")\n",
    "\n",
    "plt.show()"
   ]
  },
  {
   "cell_type": "markdown",
   "metadata": {},
   "source": [
    "<div style=\"background-color:#AABAB2; color: black; width:90%; vertical-align: middle; padding:15px; margin: 10px; border-radius: 10px\">\n",
    "<p>\n",
    "\n",
    "$\\text{Task 2.10:}$\n",
    "    \n",
    "Which method do you prefer? Solving the equations sequentially or simultaneously?\n",
    "\n",
    "Does it make a difference for the accuracy of the results? Motivate your answer.\n",
    "\n",
    "</p>\n",
    "</div>"
   ]
  },
  {
   "cell_type": "markdown",
   "metadata": {},
   "source": [
    "> By Ronald Brinkgreve, Anna Störiko, Delft University of Technology. CC BY 4.0, more info [on the Credits page of Workbook](https://mude.citg.tudelft.nl/workbook-2025/credits.html)."
   ]
  }
 ],
 "metadata": {
  "kernelspec": {
   "display_name": "mude-base",
   "language": "python",
   "name": "python3"
  },
  "language_info": {
   "codemirror_mode": {
    "name": "ipython",
    "version": 3
   },
   "file_extension": ".py",
   "mimetype": "text/x-python",
   "name": "python",
   "nbconvert_exporter": "python",
   "pygments_lexer": "ipython3",
   "version": "3.12.11"
  }
 },
 "nbformat": 4,
 "nbformat_minor": 2
}
